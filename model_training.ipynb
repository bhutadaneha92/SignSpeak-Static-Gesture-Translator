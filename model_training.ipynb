{
  "cells": [
    {
      "cell_type": "code",
      "source": [
        "!pip install -q tensorflow==2.13.0"
      ],
      "metadata": {
        "id": "xPtLCrI7fG3c",
        "colab": {
          "base_uri": "https://localhost:8080/"
        },
        "outputId": "bccc7cae-3f16-41bd-f9f4-48d010d47c68"
      },
      "execution_count": null,
      "outputs": [
        {
          "output_type": "stream",
          "name": "stdout",
          "text": [
            "\u001b[2K   \u001b[90m━━━━━━━━━━━━━━━━━━━━━━━━━━━━━━━━━━━━━━━━\u001b[0m \u001b[32m524.2/524.2 MB\u001b[0m \u001b[31m2.5 MB/s\u001b[0m eta \u001b[36m0:00:00\u001b[0m\n",
            "\u001b[2K   \u001b[90m━━━━━━━━━━━━━━━━━━━━━━━━━━━━━━━━━━━━━━━━\u001b[0m \u001b[32m1.7/1.7 MB\u001b[0m \u001b[31m18.8 MB/s\u001b[0m eta \u001b[36m0:00:00\u001b[0m\n",
            "\u001b[2K   \u001b[90m━━━━━━━━━━━━━━━━━━━━━━━━━━━━━━━━━━━━━━━━\u001b[0m \u001b[32m17.3/17.3 MB\u001b[0m \u001b[31m19.3 MB/s\u001b[0m eta \u001b[36m0:00:00\u001b[0m\n",
            "\u001b[2K   \u001b[90m━━━━━━━━━━━━━━━━━━━━━━━━━━━━━━━━━━━━━━━━\u001b[0m \u001b[32m5.6/5.6 MB\u001b[0m \u001b[31m25.9 MB/s\u001b[0m eta \u001b[36m0:00:00\u001b[0m\n",
            "\u001b[2K   \u001b[90m━━━━━━━━━━━━━━━━━━━━━━━━━━━━━━━━━━━━━━━━\u001b[0m \u001b[32m440.8/440.8 kB\u001b[0m \u001b[31m22.2 MB/s\u001b[0m eta \u001b[36m0:00:00\u001b[0m\n",
            "\u001b[?25h\u001b[31mERROR: pip's dependency resolver does not currently take into account all the packages that are installed. This behaviour is the source of the following dependency conflicts.\n",
            "pydantic-core 2.27.2 requires typing-extensions!=4.7.0,>=4.6.0, but you have typing-extensions 4.5.0 which is incompatible.\n",
            "blosc2 3.0.0 requires numpy>=1.25.0, but you have numpy 1.24.3 which is incompatible.\n",
            "albumentations 2.0.3 requires numpy>=1.24.4, but you have numpy 1.24.3 which is incompatible.\n",
            "albucore 0.0.23 requires numpy>=1.24.4, but you have numpy 1.24.3 which is incompatible.\n",
            "langchain-core 0.3.33 requires typing-extensions>=4.7, but you have typing-extensions 4.5.0 which is incompatible.\n",
            "pymc 5.20.0 requires numpy>=1.25.0, but you have numpy 1.24.3 which is incompatible.\n",
            "tensorflow-text 2.18.1 requires tensorflow<2.19,>=2.18.0, but you have tensorflow 2.13.0 which is incompatible.\n",
            "nibabel 5.3.2 requires typing-extensions>=4.6; python_version < \"3.13\", but you have typing-extensions 4.5.0 which is incompatible.\n",
            "tf-keras 2.18.0 requires tensorflow<2.19,>=2.18, but you have tensorflow 2.13.0 which is incompatible.\n",
            "altair 5.5.0 requires typing-extensions>=4.10.0; python_version < \"3.14\", but you have typing-extensions 4.5.0 which is incompatible.\n",
            "pydantic 2.10.6 requires typing-extensions>=4.12.2, but you have typing-extensions 4.5.0 which is incompatible.\n",
            "typeguard 4.4.1 requires typing-extensions>=4.10.0, but you have typing-extensions 4.5.0 which is incompatible.\n",
            "torch 2.5.1+cu124 requires nvidia-cublas-cu12==12.4.5.8; platform_system == \"Linux\" and platform_machine == \"x86_64\", but you have nvidia-cublas-cu12 12.5.3.2 which is incompatible.\n",
            "torch 2.5.1+cu124 requires nvidia-cuda-cupti-cu12==12.4.127; platform_system == \"Linux\" and platform_machine == \"x86_64\", but you have nvidia-cuda-cupti-cu12 12.5.82 which is incompatible.\n",
            "torch 2.5.1+cu124 requires nvidia-cuda-nvrtc-cu12==12.4.127; platform_system == \"Linux\" and platform_machine == \"x86_64\", but you have nvidia-cuda-nvrtc-cu12 12.5.82 which is incompatible.\n",
            "torch 2.5.1+cu124 requires nvidia-cuda-runtime-cu12==12.4.127; platform_system == \"Linux\" and platform_machine == \"x86_64\", but you have nvidia-cuda-runtime-cu12 12.5.82 which is incompatible.\n",
            "torch 2.5.1+cu124 requires nvidia-cudnn-cu12==9.1.0.70; platform_system == \"Linux\" and platform_machine == \"x86_64\", but you have nvidia-cudnn-cu12 9.3.0.75 which is incompatible.\n",
            "torch 2.5.1+cu124 requires nvidia-cufft-cu12==11.2.1.3; platform_system == \"Linux\" and platform_machine == \"x86_64\", but you have nvidia-cufft-cu12 11.2.3.61 which is incompatible.\n",
            "torch 2.5.1+cu124 requires nvidia-curand-cu12==10.3.5.147; platform_system == \"Linux\" and platform_machine == \"x86_64\", but you have nvidia-curand-cu12 10.3.6.82 which is incompatible.\n",
            "torch 2.5.1+cu124 requires nvidia-cusolver-cu12==11.6.1.9; platform_system == \"Linux\" and platform_machine == \"x86_64\", but you have nvidia-cusolver-cu12 11.6.3.83 which is incompatible.\n",
            "torch 2.5.1+cu124 requires nvidia-cusparse-cu12==12.3.1.170; platform_system == \"Linux\" and platform_machine == \"x86_64\", but you have nvidia-cusparse-cu12 12.5.1.3 which is incompatible.\n",
            "torch 2.5.1+cu124 requires nvidia-nvjitlink-cu12==12.4.127; platform_system == \"Linux\" and platform_machine == \"x86_64\", but you have nvidia-nvjitlink-cu12 12.5.82 which is incompatible.\n",
            "torch 2.5.1+cu124 requires typing-extensions>=4.8.0, but you have typing-extensions 4.5.0 which is incompatible.\n",
            "openai 1.61.0 requires typing-extensions<5,>=4.11, but you have typing-extensions 4.5.0 which is incompatible.\n",
            "sqlalchemy 2.0.37 requires typing-extensions>=4.6.0, but you have typing-extensions 4.5.0 which is incompatible.\u001b[0m\u001b[31m\n",
            "\u001b[0m"
          ]
        }
      ]
    },
    {
      "cell_type": "code",
      "execution_count": null,
      "metadata": {
        "colab": {
          "base_uri": "https://localhost:8080/"
        },
        "id": "rl1eczpgZ_b7",
        "outputId": "2c8ae2f1-f23c-4b9d-d2af-5690e98b38f7"
      },
      "outputs": [
        {
          "output_type": "stream",
          "name": "stdout",
          "text": [
            "Name: tensorflow\n",
            "Version: 2.13.0\n",
            "Summary: TensorFlow is an open source machine learning framework for everyone.\n",
            "Home-page: https://www.tensorflow.org/\n",
            "Author: Google Inc.\n",
            "Author-email: packages@tensorflow.org\n",
            "License: Apache 2.0\n",
            "Location: /usr/local/lib/python3.11/dist-packages\n",
            "Requires: absl-py, astunparse, flatbuffers, gast, google-pasta, grpcio, h5py, keras, libclang, numpy, opt-einsum, packaging, protobuf, setuptools, six, tensorboard, tensorflow-estimator, tensorflow-io-gcs-filesystem, termcolor, typing-extensions, wrapt\n",
            "Required-by: dopamine_rl, tensorflow-text, tf_keras\n"
          ]
        }
      ],
      "source": [
        "!pip show tensorflow"
      ]
    },
    {
      "cell_type": "code",
      "source": [
        "from google.colab import drive\n",
        "drive.mount('/content/drive')"
      ],
      "metadata": {
        "colab": {
          "base_uri": "https://localhost:8080/"
        },
        "id": "E4wt4--8f3l3",
        "outputId": "da44be86-2518-4523-bf1b-7a8687c50d7f"
      },
      "execution_count": null,
      "outputs": [
        {
          "output_type": "stream",
          "name": "stdout",
          "text": [
            "Mounted at /content/drive\n"
          ]
        }
      ]
    },
    {
      "cell_type": "code",
      "execution_count": null,
      "metadata": {
        "id": "igMyGnjE9hEp"
      },
      "outputs": [],
      "source": [
        "import csv\n",
        "import numpy as np\n",
        "import tensorflow as tf\n",
        "from keras.callbacks import EarlyStopping, ModelCheckpoint\n",
        "from tensorflow import keras\n",
        "from tensorflow.keras import layers\n",
        "\n",
        "from sklearn.preprocessing import LabelEncoder\n",
        "from sklearn.model_selection import train_test_split\n",
        "\n",
        "RANDOM_SEED = 42"
      ]
    },
    {
      "cell_type": "markdown",
      "metadata": {
        "id": "t2HDvhIu9hEr"
      },
      "source": [
        "# Specify each path"
      ]
    },
    {
      "cell_type": "code",
      "execution_count": null,
      "metadata": {
        "id": "9NvZP2Zn9hEy"
      },
      "outputs": [],
      "source": [
        "url = \"https://drive.google.com/file/d/18uCv1Rj1xDvIH6dQ0wvzuS5EPbry7hYG/view?usp=sharing\"\n",
        "dataset = \"https://drive.google.com/uc?export=download&id=\"+url.split('/')[-2]\n",
        "#dataset = pd.read_csv(path, header = None)\n"
      ]
    },
    {
      "cell_type": "markdown",
      "source": [
        "keypoint_classifier_1 = bs = 256, original"
      ],
      "metadata": {
        "id": "95sKz-G30_i7"
      }
    },
    {
      "cell_type": "code",
      "source": [
        "model_save_path =  \"/content/drive/MyDrive/Sign_speak_gesture_recognition/model/keypoint_classifier_1.hdf5\"\n",
        "tflite_save_path = \"/content/drive/MyDrive/Sign_speak_gesture_recognition/model/keypoint_classifier_1.tflite\""
      ],
      "metadata": {
        "id": "VtNNX8Wdos-d"
      },
      "execution_count": null,
      "outputs": []
    },
    {
      "cell_type": "code",
      "source": [
        "dataset"
      ],
      "metadata": {
        "colab": {
          "base_uri": "https://localhost:8080/",
          "height": 35
        },
        "id": "CIxkR_AehKIv",
        "outputId": "c982e8a8-04cf-40e9-8c64-3cac39cf390d"
      },
      "execution_count": null,
      "outputs": [
        {
          "output_type": "execute_result",
          "data": {
            "text/plain": [
              "'https://drive.google.com/uc?export=download&id=18uCv1Rj1xDvIH6dQ0wvzuS5EPbry7hYG'"
            ],
            "application/vnd.google.colaboratory.intrinsic+json": {
              "type": "string"
            }
          },
          "metadata": {},
          "execution_count": 13
        }
      ]
    },
    {
      "cell_type": "markdown",
      "metadata": {
        "id": "XjnL0uso9hEz"
      },
      "source": [
        "# Dataset reading"
      ]
    },
    {
      "cell_type": "code",
      "execution_count": null,
      "metadata": {
        "id": "QT5ZqtEz9hE0",
        "colab": {
          "base_uri": "https://localhost:8080/"
        },
        "outputId": "84d5650f-6fa5-4a44-de78-96ff1fb30640"
      },
      "outputs": [
        {
          "output_type": "execute_result",
          "data": {
            "text/plain": [
              "array([[ 0.        ,  0.        , -0.14285715, ..., -0.6753247 ,\n",
              "         0.18181819, -0.7922078 ],\n",
              "       [ 0.        ,  0.        ,  0.14666666, ..., -0.6933333 ,\n",
              "        -0.16      , -0.81333333],\n",
              "       [ 0.        ,  0.        ,  0.11688311, ..., -0.6753247 ,\n",
              "        -0.18181819, -0.77922076],\n",
              "       ...,\n",
              "       [ 0.        ,  0.        , -0.03773585, ...,  0.509434  ,\n",
              "        -0.16981132,  0.5660377 ],\n",
              "       [ 0.        ,  0.        , -0.28301886, ...,  0.8490566 ,\n",
              "         0.20754717,  0.7169811 ],\n",
              "       [ 0.        ,  0.        ,  0.34375   , ...,  0.625     ,\n",
              "         0.09375   ,  0.625     ]], dtype=float32)"
            ]
          },
          "metadata": {},
          "execution_count": 14
        }
      ],
      "source": [
        "X = np.loadtxt(dataset, delimiter=',', dtype='float32', usecols=list(range(1, (21 * 2) + 1)))\n",
        "X"
      ]
    },
    {
      "cell_type": "code",
      "execution_count": null,
      "metadata": {
        "id": "QmoKFsp49hE0",
        "colab": {
          "base_uri": "https://localhost:8080/"
        },
        "outputId": "69cb7fbc-740a-4653-f8c3-b3775384cf8b"
      },
      "outputs": [
        {
          "output_type": "execute_result",
          "data": {
            "text/plain": [
              "array(['afraid', 'afraid', 'afraid', ..., 'you', 'you', 'you'],\n",
              "      dtype='<U10')"
            ]
          },
          "metadata": {},
          "execution_count": 15
        }
      ],
      "source": [
        "label = np.loadtxt(dataset, delimiter=',', dtype='str', usecols=(0))\n",
        "label"
      ]
    },
    {
      "cell_type": "code",
      "source": [
        "enc = LabelEncoder()\n",
        "y = enc.fit_transform(label)  # Convert to 1D array\n",
        "y"
      ],
      "metadata": {
        "colab": {
          "base_uri": "https://localhost:8080/"
        },
        "id": "UKdirQqNhqfF",
        "outputId": "3f71eb02-2f00-4d76-e8bf-081c09cbf141"
      },
      "execution_count": null,
      "outputs": [
        {
          "output_type": "execute_result",
          "data": {
            "text/plain": [
              "array([ 0,  0,  0, ..., 11, 11, 11])"
            ]
          },
          "metadata": {},
          "execution_count": 16
        }
      ]
    },
    {
      "cell_type": "code",
      "execution_count": 83,
      "metadata": {
        "id": "xQU7JTZ_9hE0",
        "colab": {
          "base_uri": "https://localhost:8080/"
        },
        "outputId": "85263987-01b4-41b2-ecc7-1090465b4134"
      },
      "outputs": [
        {
          "output_type": "stream",
          "name": "stdout",
          "text": [
            "X_train = (5355, 42), y_train = (5355,)\n",
            "X_test = (1339, 42), y_test = (1339,)\n"
          ]
        }
      ],
      "source": [
        "X_train, X_test, y_train, y_test = train_test_split(X, y, train_size=0.8, random_state=RANDOM_SEED)\n",
        "print(f\"X_train = {X_train.shape}, y_train = {y_train.shape}\")\n",
        "print(f\"X_test = {X_test.shape}, y_test = {y_test.shape}\")"
      ]
    },
    {
      "cell_type": "markdown",
      "metadata": {
        "id": "mxK_lETT9hE0"
      },
      "source": [
        "# Model building"
      ]
    },
    {
      "cell_type": "code",
      "source": [
        "NUM_CLASSES = 12\n",
        "INPUT_SHAPE = 42  # 21 hand keypoints * 2 (x, y)\n",
        "\n",
        "model = keras.Sequential([\n",
        "    layers.Input(shape=(INPUT_SHAPE,)),\n",
        "\n",
        "    layers.Dense(504, activation='relu'),\n",
        "    layers.Dropout(0.15),\n",
        "\n",
        "    layers.Dense(256, activation='relu'),\n",
        "    layers.Dropout(0.15),\n",
        "\n",
        "    layers.Dense(128, activation='relu'),\n",
        "    layers.Dropout(0.2),\n",
        "\n",
        "    layers.Dense(64, activation='relu'),\n",
        "    layers.Dropout(0.2),\n",
        "\n",
        "    layers.Dense(NUM_CLASSES, activation='softmax')  # Multi-class classification\n",
        "])\n",
        "\n",
        "model.summary()"
      ],
      "metadata": {
        "colab": {
          "base_uri": "https://localhost:8080/"
        },
        "id": "_d3Zbl9qG7m6",
        "outputId": "e751f503-ca4b-42f8-999d-8949cf535e1b"
      },
      "execution_count": 53,
      "outputs": [
        {
          "output_type": "stream",
          "name": "stdout",
          "text": [
            "Model: \"sequential_3\"\n",
            "_________________________________________________________________\n",
            " Layer (type)                Output Shape              Param #   \n",
            "=================================================================\n",
            " dense_11 (Dense)            (None, 504)               21672     \n",
            "                                                                 \n",
            " dropout_8 (Dropout)         (None, 504)               0         \n",
            "                                                                 \n",
            " dense_12 (Dense)            (None, 256)               129280    \n",
            "                                                                 \n",
            " dropout_9 (Dropout)         (None, 256)               0         \n",
            "                                                                 \n",
            " dense_13 (Dense)            (None, 128)               32896     \n",
            "                                                                 \n",
            " dropout_10 (Dropout)        (None, 128)               0         \n",
            "                                                                 \n",
            " dense_14 (Dense)            (None, 64)                8256      \n",
            "                                                                 \n",
            " dropout_11 (Dropout)        (None, 64)                0         \n",
            "                                                                 \n",
            " dense_15 (Dense)            (None, 12)                780       \n",
            "                                                                 \n",
            "=================================================================\n",
            "Total params: 192884 (753.45 KB)\n",
            "Trainable params: 192884 (753.45 KB)\n",
            "Non-trainable params: 0 (0.00 Byte)\n",
            "_________________________________________________________________\n"
          ]
        }
      ]
    },
    {
      "cell_type": "code",
      "execution_count": 41,
      "metadata": {
        "id": "vHBmUf1t9hE1",
        "colab": {
          "base_uri": "https://localhost:8080/"
        },
        "outputId": "5581f2c0-9af4-491d-d843-e37d339926a0"
      },
      "outputs": [
        {
          "output_type": "stream",
          "name": "stdout",
          "text": [
            "Model: \"sequential_2\"\n",
            "_________________________________________________________________\n",
            " Layer (type)                Output Shape              Param #   \n",
            "=================================================================\n",
            " dropout_6 (Dropout)         (None, 42)                0         \n",
            "                                                                 \n",
            " dense_8 (Dense)             (None, 40)                1720      \n",
            "                                                                 \n",
            " dropout_7 (Dropout)         (None, 40)                0         \n",
            "                                                                 \n",
            " dense_9 (Dense)             (None, 20)                820       \n",
            "                                                                 \n",
            " dense_10 (Dense)            (None, 12)                252       \n",
            "                                                                 \n",
            "=================================================================\n",
            "Total params: 2792 (10.91 KB)\n",
            "Trainable params: 2792 (10.91 KB)\n",
            "Non-trainable params: 0 (0.00 Byte)\n",
            "_________________________________________________________________\n"
          ]
        }
      ],
      "source": [
        "# NUM_CLASSES = 12\n",
        "# model = tf.keras.models.Sequential([\n",
        "#     tf.keras.layers.Input((21 * 2,)),\n",
        "#     tf.keras.layers.Dropout(0.2),\n",
        "#     tf.keras.layers.Dense(40, activation='relu'),\n",
        "#     tf.keras.layers.Dropout(0.2),\n",
        "#     #tf.keras.layers.Dense(40, activation='relu'),\n",
        "#     tf.keras.layers.Dense(20, activation='relu'),\n",
        "#     tf.keras.layers.Dense(NUM_CLASSES, activation='softmax')\n",
        "# ])\n",
        "\n",
        "# model.summary()  # tf.keras.utils.plot_model(model, show_shapes=True)"
      ]
    },
    {
      "cell_type": "code",
      "source": [
        "# Model checkpoint callback (Save FULL model, not just weights)\n",
        "cp_callback = ModelCheckpoint(\n",
        "    model_save_path,\n",
        "    save_best_only=True,  # Save only the best model (optional)\n",
        "    verbose=1,\n",
        "    save_weights_only=False  # Ensure it saves the full model\n",
        ")\n",
        "\n",
        "# Early stopping callback (Stops training if no improvement)\n",
        "es_callback = EarlyStopping(\n",
        "    patience=20,  # Number of epochs to wait before stopping\n",
        "    verbose=1,\n",
        "    restore_best_weights=True  # Restores best model weights\n",
        ")"
      ],
      "metadata": {
        "id": "9txD2wUTKTbM"
      },
      "execution_count": 54,
      "outputs": []
    },
    {
      "cell_type": "code",
      "execution_count": 55,
      "metadata": {
        "id": "c3Dac0M_9hE2"
      },
      "outputs": [],
      "source": [
        "# Model compilation\n",
        "model.compile(\n",
        "    optimizer='adam',\n",
        "    loss='sparse_categorical_crossentropy',\n",
        "    metrics=['accuracy']\n",
        ")"
      ]
    },
    {
      "cell_type": "markdown",
      "metadata": {
        "id": "7XI0j1Iu9hE2"
      },
      "source": [
        "# Model training"
      ]
    },
    {
      "cell_type": "markdown",
      "source": [
        "_1threelayer_40 : bs = 64"
      ],
      "metadata": {
        "id": "rDRvwfIiuaU-"
      }
    },
    {
      "cell_type": "code",
      "execution_count": 56,
      "metadata": {
        "colab": {
          "base_uri": "https://localhost:8080/"
        },
        "id": "WirBl-JE9hE3",
        "outputId": "f98fe3fe-471c-4217-cbb4-32398ddf9a33",
        "scrolled": true
      },
      "outputs": [
        {
          "output_type": "stream",
          "name": "stdout",
          "text": [
            "Epoch 1/1000\n",
            "165/168 [============================>.] - ETA: 0s - loss: 1.4240 - accuracy: 0.4720\n",
            "Epoch 1: val_loss improved from inf to 0.78942, saving model to /content/drive/MyDrive/Sign_speak_gesture_recognition/model/keypoint_classifier_1.hdf5\n",
            "168/168 [==============================] - 2s 5ms/step - loss: 1.4170 - accuracy: 0.4743 - val_loss: 0.7894 - val_accuracy: 0.6990\n",
            "Epoch 2/1000\n",
            " 29/168 [====>.........................] - ETA: 0s - loss: 0.8824 - accuracy: 0.6724"
          ]
        },
        {
          "output_type": "stream",
          "name": "stderr",
          "text": [
            "/usr/local/lib/python3.11/dist-packages/keras/src/engine/training.py:3000: UserWarning:\n",
            "\n",
            "You are saving your model as an HDF5 file via `model.save()`. This file format is considered legacy. We recommend using instead the native Keras format, e.g. `model.save('my_model.keras')`.\n",
            "\n"
          ]
        },
        {
          "output_type": "stream",
          "name": "stdout",
          "text": [
            "156/168 [==========================>...] - ETA: 0s - loss: 0.8327 - accuracy: 0.6811\n",
            "Epoch 2: val_loss improved from 0.78942 to 0.56145, saving model to /content/drive/MyDrive/Sign_speak_gesture_recognition/model/keypoint_classifier_1.hdf5\n",
            "168/168 [==============================] - 1s 5ms/step - loss: 0.8262 - accuracy: 0.6825 - val_loss: 0.5615 - val_accuracy: 0.7954\n",
            "Epoch 3/1000\n",
            "160/168 [===========================>..] - ETA: 0s - loss: 0.6467 - accuracy: 0.7646\n",
            "Epoch 3: val_loss improved from 0.56145 to 0.45842, saving model to /content/drive/MyDrive/Sign_speak_gesture_recognition/model/keypoint_classifier_1.hdf5\n",
            "168/168 [==============================] - 1s 5ms/step - loss: 0.6428 - accuracy: 0.7655 - val_loss: 0.4584 - val_accuracy: 0.8275\n",
            "Epoch 4/1000\n",
            "163/168 [============================>.] - ETA: 0s - loss: 0.5486 - accuracy: 0.8058\n",
            "Epoch 4: val_loss improved from 0.45842 to 0.34837, saving model to /content/drive/MyDrive/Sign_speak_gesture_recognition/model/keypoint_classifier_1.hdf5\n",
            "168/168 [==============================] - 1s 5ms/step - loss: 0.5474 - accuracy: 0.8071 - val_loss: 0.3484 - val_accuracy: 0.8857\n",
            "Epoch 5/1000\n",
            "166/168 [============================>.] - ETA: 0s - loss: 0.4440 - accuracy: 0.8470\n",
            "Epoch 5: val_loss improved from 0.34837 to 0.32620, saving model to /content/drive/MyDrive/Sign_speak_gesture_recognition/model/keypoint_classifier_1.hdf5\n",
            "168/168 [==============================] - 1s 5ms/step - loss: 0.4474 - accuracy: 0.8461 - val_loss: 0.3262 - val_accuracy: 0.8805\n",
            "Epoch 6/1000\n",
            "162/168 [===========================>..] - ETA: 0s - loss: 0.3956 - accuracy: 0.8661\n",
            "Epoch 6: val_loss improved from 0.32620 to 0.30507, saving model to /content/drive/MyDrive/Sign_speak_gesture_recognition/model/keypoint_classifier_1.hdf5\n",
            "168/168 [==============================] - 1s 5ms/step - loss: 0.3929 - accuracy: 0.8674 - val_loss: 0.3051 - val_accuracy: 0.9022\n",
            "Epoch 7/1000\n",
            "160/168 [===========================>..] - ETA: 0s - loss: 0.3424 - accuracy: 0.8885\n",
            "Epoch 7: val_loss improved from 0.30507 to 0.22711, saving model to /content/drive/MyDrive/Sign_speak_gesture_recognition/model/keypoint_classifier_1.hdf5\n",
            "168/168 [==============================] - 1s 5ms/step - loss: 0.3433 - accuracy: 0.8880 - val_loss: 0.2271 - val_accuracy: 0.9283\n",
            "Epoch 8/1000\n",
            "164/168 [============================>.] - ETA: 0s - loss: 0.2957 - accuracy: 0.9059\n",
            "Epoch 8: val_loss improved from 0.22711 to 0.21629, saving model to /content/drive/MyDrive/Sign_speak_gesture_recognition/model/keypoint_classifier_1.hdf5\n",
            "168/168 [==============================] - 1s 6ms/step - loss: 0.2953 - accuracy: 0.9061 - val_loss: 0.2163 - val_accuracy: 0.9373\n",
            "Epoch 9/1000\n",
            "166/168 [============================>.] - ETA: 0s - loss: 0.2687 - accuracy: 0.9143\n",
            "Epoch 9: val_loss improved from 0.21629 to 0.17046, saving model to /content/drive/MyDrive/Sign_speak_gesture_recognition/model/keypoint_classifier_1.hdf5\n",
            "168/168 [==============================] - 1s 8ms/step - loss: 0.2673 - accuracy: 0.9150 - val_loss: 0.1705 - val_accuracy: 0.9447\n",
            "Epoch 10/1000\n",
            "168/168 [==============================] - ETA: 0s - loss: 0.2614 - accuracy: 0.9162\n",
            "Epoch 10: val_loss did not improve from 0.17046\n",
            "168/168 [==============================] - 1s 8ms/step - loss: 0.2614 - accuracy: 0.9162 - val_loss: 0.1935 - val_accuracy: 0.9417\n",
            "Epoch 11/1000\n",
            "167/168 [============================>.] - ETA: 0s - loss: 0.2173 - accuracy: 0.9285\n",
            "Epoch 11: val_loss improved from 0.17046 to 0.12877, saving model to /content/drive/MyDrive/Sign_speak_gesture_recognition/model/keypoint_classifier_1.hdf5\n",
            "168/168 [==============================] - 1s 9ms/step - loss: 0.2173 - accuracy: 0.9285 - val_loss: 0.1288 - val_accuracy: 0.9642\n",
            "Epoch 12/1000\n",
            "160/168 [===========================>..] - ETA: 0s - loss: 0.2144 - accuracy: 0.9328\n",
            "Epoch 12: val_loss did not improve from 0.12877\n",
            "168/168 [==============================] - 1s 5ms/step - loss: 0.2191 - accuracy: 0.9318 - val_loss: 0.1321 - val_accuracy: 0.9589\n",
            "Epoch 13/1000\n",
            "166/168 [============================>.] - ETA: 0s - loss: 0.2202 - accuracy: 0.9305\n",
            "Epoch 13: val_loss did not improve from 0.12877\n",
            "168/168 [==============================] - 1s 5ms/step - loss: 0.2196 - accuracy: 0.9309 - val_loss: 0.1474 - val_accuracy: 0.9500\n",
            "Epoch 14/1000\n",
            "155/168 [==========================>...] - ETA: 0s - loss: 0.1820 - accuracy: 0.9413\n",
            "Epoch 14: val_loss improved from 0.12877 to 0.11943, saving model to /content/drive/MyDrive/Sign_speak_gesture_recognition/model/keypoint_classifier_1.hdf5\n",
            "168/168 [==============================] - 1s 5ms/step - loss: 0.1813 - accuracy: 0.9410 - val_loss: 0.1194 - val_accuracy: 0.9642\n",
            "Epoch 15/1000\n",
            "160/168 [===========================>..] - ETA: 0s - loss: 0.1759 - accuracy: 0.9441\n",
            "Epoch 15: val_loss did not improve from 0.11943\n",
            "168/168 [==============================] - 1s 4ms/step - loss: 0.1750 - accuracy: 0.9445 - val_loss: 0.1228 - val_accuracy: 0.9552\n",
            "Epoch 16/1000\n",
            "163/168 [============================>.] - ETA: 0s - loss: 0.1782 - accuracy: 0.9433\n",
            "Epoch 16: val_loss did not improve from 0.11943\n",
            "168/168 [==============================] - 1s 4ms/step - loss: 0.1794 - accuracy: 0.9430 - val_loss: 0.1201 - val_accuracy: 0.9589\n",
            "Epoch 17/1000\n",
            "157/168 [===========================>..] - ETA: 0s - loss: 0.1795 - accuracy: 0.9377\n",
            "Epoch 17: val_loss did not improve from 0.11943\n",
            "168/168 [==============================] - 1s 4ms/step - loss: 0.1762 - accuracy: 0.9391 - val_loss: 0.1508 - val_accuracy: 0.9582\n",
            "Epoch 18/1000\n",
            "154/168 [==========================>...] - ETA: 0s - loss: 0.1551 - accuracy: 0.9527\n",
            "Epoch 18: val_loss improved from 0.11943 to 0.10146, saving model to /content/drive/MyDrive/Sign_speak_gesture_recognition/model/keypoint_classifier_1.hdf5\n",
            "168/168 [==============================] - 1s 4ms/step - loss: 0.1546 - accuracy: 0.9531 - val_loss: 0.1015 - val_accuracy: 0.9701\n",
            "Epoch 19/1000\n",
            "163/168 [============================>.] - ETA: 0s - loss: 0.1465 - accuracy: 0.9526\n",
            "Epoch 19: val_loss did not improve from 0.10146\n",
            "168/168 [==============================] - 1s 4ms/step - loss: 0.1479 - accuracy: 0.9518 - val_loss: 0.1087 - val_accuracy: 0.9649\n",
            "Epoch 20/1000\n",
            "165/168 [============================>.] - ETA: 0s - loss: 0.1494 - accuracy: 0.9515\n",
            "Epoch 20: val_loss improved from 0.10146 to 0.09444, saving model to /content/drive/MyDrive/Sign_speak_gesture_recognition/model/keypoint_classifier_1.hdf5\n",
            "168/168 [==============================] - 1s 5ms/step - loss: 0.1507 - accuracy: 0.9511 - val_loss: 0.0944 - val_accuracy: 0.9701\n",
            "Epoch 21/1000\n",
            "167/168 [============================>.] - ETA: 0s - loss: 0.1325 - accuracy: 0.9571\n",
            "Epoch 21: val_loss did not improve from 0.09444\n",
            "168/168 [==============================] - 1s 5ms/step - loss: 0.1329 - accuracy: 0.9569 - val_loss: 0.0995 - val_accuracy: 0.9716\n",
            "Epoch 22/1000\n",
            "168/168 [==============================] - ETA: 0s - loss: 0.1439 - accuracy: 0.9552\n",
            "Epoch 22: val_loss did not improve from 0.09444\n",
            "168/168 [==============================] - 1s 4ms/step - loss: 0.1439 - accuracy: 0.9552 - val_loss: 0.1163 - val_accuracy: 0.9634\n",
            "Epoch 23/1000\n",
            "160/168 [===========================>..] - ETA: 0s - loss: 0.1330 - accuracy: 0.9574\n",
            "Epoch 23: val_loss did not improve from 0.09444\n",
            "168/168 [==============================] - 1s 4ms/step - loss: 0.1341 - accuracy: 0.9569 - val_loss: 0.1232 - val_accuracy: 0.9567\n",
            "Epoch 24/1000\n",
            "167/168 [============================>.] - ETA: 0s - loss: 0.1418 - accuracy: 0.9553\n",
            "Epoch 24: val_loss did not improve from 0.09444\n",
            "168/168 [==============================] - 1s 5ms/step - loss: 0.1418 - accuracy: 0.9552 - val_loss: 0.0948 - val_accuracy: 0.9694\n",
            "Epoch 25/1000\n",
            "164/168 [============================>.] - ETA: 0s - loss: 0.1153 - accuracy: 0.9606\n",
            "Epoch 25: val_loss improved from 0.09444 to 0.09188, saving model to /content/drive/MyDrive/Sign_speak_gesture_recognition/model/keypoint_classifier_1.hdf5\n",
            "168/168 [==============================] - 1s 8ms/step - loss: 0.1155 - accuracy: 0.9602 - val_loss: 0.0919 - val_accuracy: 0.9731\n",
            "Epoch 26/1000\n",
            "162/168 [===========================>..] - ETA: 0s - loss: 0.1275 - accuracy: 0.9583\n",
            "Epoch 26: val_loss did not improve from 0.09188\n",
            "168/168 [==============================] - 1s 8ms/step - loss: 0.1272 - accuracy: 0.9585 - val_loss: 0.0940 - val_accuracy: 0.9724\n",
            "Epoch 27/1000\n",
            "166/168 [============================>.] - ETA: 0s - loss: 0.1267 - accuracy: 0.9565\n",
            "Epoch 27: val_loss did not improve from 0.09188\n",
            "168/168 [==============================] - 1s 8ms/step - loss: 0.1263 - accuracy: 0.9567 - val_loss: 0.0966 - val_accuracy: 0.9739\n",
            "Epoch 28/1000\n",
            "160/168 [===========================>..] - ETA: 0s - loss: 0.1195 - accuracy: 0.9615\n",
            "Epoch 28: val_loss improved from 0.09188 to 0.07493, saving model to /content/drive/MyDrive/Sign_speak_gesture_recognition/model/keypoint_classifier_1.hdf5\n",
            "168/168 [==============================] - 1s 7ms/step - loss: 0.1202 - accuracy: 0.9615 - val_loss: 0.0749 - val_accuracy: 0.9813\n",
            "Epoch 29/1000\n",
            "162/168 [===========================>..] - ETA: 0s - loss: 0.1109 - accuracy: 0.9620\n",
            "Epoch 29: val_loss did not improve from 0.07493\n",
            "168/168 [==============================] - 1s 5ms/step - loss: 0.1096 - accuracy: 0.9625 - val_loss: 0.1042 - val_accuracy: 0.9731\n",
            "Epoch 30/1000\n",
            "157/168 [===========================>..] - ETA: 0s - loss: 0.1004 - accuracy: 0.9670\n",
            "Epoch 30: val_loss improved from 0.07493 to 0.07423, saving model to /content/drive/MyDrive/Sign_speak_gesture_recognition/model/keypoint_classifier_1.hdf5\n",
            "168/168 [==============================] - 1s 5ms/step - loss: 0.1062 - accuracy: 0.9647 - val_loss: 0.0742 - val_accuracy: 0.9768\n",
            "Epoch 31/1000\n",
            "154/168 [==========================>...] - ETA: 0s - loss: 0.1219 - accuracy: 0.9604\n",
            "Epoch 31: val_loss did not improve from 0.07423\n",
            "168/168 [==============================] - 1s 4ms/step - loss: 0.1194 - accuracy: 0.9608 - val_loss: 0.0744 - val_accuracy: 0.9761\n",
            "Epoch 32/1000\n",
            "156/168 [==========================>...] - ETA: 0s - loss: 0.0892 - accuracy: 0.9706\n",
            "Epoch 32: val_loss did not improve from 0.07423\n",
            "168/168 [==============================] - 1s 4ms/step - loss: 0.0878 - accuracy: 0.9714 - val_loss: 0.0742 - val_accuracy: 0.9791\n",
            "Epoch 33/1000\n",
            "161/168 [===========================>..] - ETA: 0s - loss: 0.0892 - accuracy: 0.9697\n",
            "Epoch 33: val_loss did not improve from 0.07423\n",
            "168/168 [==============================] - 1s 4ms/step - loss: 0.0894 - accuracy: 0.9699 - val_loss: 0.0946 - val_accuracy: 0.9671\n",
            "Epoch 34/1000\n",
            "164/168 [============================>.] - ETA: 0s - loss: 0.1019 - accuracy: 0.9672\n",
            "Epoch 34: val_loss improved from 0.07423 to 0.05788, saving model to /content/drive/MyDrive/Sign_speak_gesture_recognition/model/keypoint_classifier_1.hdf5\n",
            "168/168 [==============================] - 1s 5ms/step - loss: 0.1023 - accuracy: 0.9669 - val_loss: 0.0579 - val_accuracy: 0.9806\n",
            "Epoch 35/1000\n",
            "167/168 [============================>.] - ETA: 0s - loss: 0.0820 - accuracy: 0.9721\n",
            "Epoch 35: val_loss did not improve from 0.05788\n",
            "168/168 [==============================] - 1s 5ms/step - loss: 0.0818 - accuracy: 0.9722 - val_loss: 0.0658 - val_accuracy: 0.9776\n",
            "Epoch 36/1000\n",
            "164/168 [============================>.] - ETA: 0s - loss: 0.1018 - accuracy: 0.9657\n",
            "Epoch 36: val_loss did not improve from 0.05788\n",
            "168/168 [==============================] - 1s 4ms/step - loss: 0.1028 - accuracy: 0.9658 - val_loss: 0.0620 - val_accuracy: 0.9783\n",
            "Epoch 37/1000\n",
            "155/168 [==========================>...] - ETA: 0s - loss: 0.1218 - accuracy: 0.9587\n",
            "Epoch 37: val_loss improved from 0.05788 to 0.05669, saving model to /content/drive/MyDrive/Sign_speak_gesture_recognition/model/keypoint_classifier_1.hdf5\n",
            "168/168 [==============================] - 1s 4ms/step - loss: 0.1204 - accuracy: 0.9597 - val_loss: 0.0567 - val_accuracy: 0.9791\n",
            "Epoch 38/1000\n",
            "164/168 [============================>.] - ETA: 0s - loss: 0.0896 - accuracy: 0.9691\n",
            "Epoch 38: val_loss did not improve from 0.05669\n",
            "168/168 [==============================] - 1s 4ms/step - loss: 0.0895 - accuracy: 0.9692 - val_loss: 0.0877 - val_accuracy: 0.9686\n",
            "Epoch 39/1000\n",
            "160/168 [===========================>..] - ETA: 0s - loss: 0.1004 - accuracy: 0.9688\n",
            "Epoch 39: val_loss improved from 0.05669 to 0.04725, saving model to /content/drive/MyDrive/Sign_speak_gesture_recognition/model/keypoint_classifier_1.hdf5\n",
            "168/168 [==============================] - 1s 5ms/step - loss: 0.1010 - accuracy: 0.9684 - val_loss: 0.0472 - val_accuracy: 0.9851\n",
            "Epoch 40/1000\n",
            "163/168 [============================>.] - ETA: 0s - loss: 0.1037 - accuracy: 0.9664\n",
            "Epoch 40: val_loss did not improve from 0.04725\n",
            "168/168 [==============================] - 1s 4ms/step - loss: 0.1029 - accuracy: 0.9662 - val_loss: 0.0543 - val_accuracy: 0.9836\n",
            "Epoch 41/1000\n",
            "165/168 [============================>.] - ETA: 0s - loss: 0.0851 - accuracy: 0.9742\n",
            "Epoch 41: val_loss did not improve from 0.04725\n",
            "168/168 [==============================] - 1s 6ms/step - loss: 0.0842 - accuracy: 0.9746 - val_loss: 0.0714 - val_accuracy: 0.9739\n",
            "Epoch 42/1000\n",
            "163/168 [============================>.] - ETA: 0s - loss: 0.0716 - accuracy: 0.9778\n",
            "Epoch 42: val_loss did not improve from 0.04725\n",
            "168/168 [==============================] - 1s 8ms/step - loss: 0.0728 - accuracy: 0.9778 - val_loss: 0.0923 - val_accuracy: 0.9709\n",
            "Epoch 43/1000\n",
            "167/168 [============================>.] - ETA: 0s - loss: 0.0833 - accuracy: 0.9740\n",
            "Epoch 43: val_loss did not improve from 0.04725\n",
            "168/168 [==============================] - 1s 8ms/step - loss: 0.0832 - accuracy: 0.9739 - val_loss: 0.1662 - val_accuracy: 0.9649\n",
            "Epoch 44/1000\n",
            "161/168 [===========================>..] - ETA: 0s - loss: 0.0986 - accuracy: 0.9709\n",
            "Epoch 44: val_loss did not improve from 0.04725\n",
            "168/168 [==============================] - 1s 8ms/step - loss: 0.0993 - accuracy: 0.9712 - val_loss: 0.0560 - val_accuracy: 0.9836\n",
            "Epoch 45/1000\n",
            "162/168 [===========================>..] - ETA: 0s - loss: 0.0662 - accuracy: 0.9792\n",
            "Epoch 45: val_loss did not improve from 0.04725\n",
            "168/168 [==============================] - 1s 5ms/step - loss: 0.0652 - accuracy: 0.9796 - val_loss: 0.0647 - val_accuracy: 0.9739\n",
            "Epoch 46/1000\n",
            "155/168 [==========================>...] - ETA: 0s - loss: 0.0698 - accuracy: 0.9770\n",
            "Epoch 46: val_loss did not improve from 0.04725\n",
            "168/168 [==============================] - 1s 5ms/step - loss: 0.0708 - accuracy: 0.9765 - val_loss: 0.0664 - val_accuracy: 0.9776\n",
            "Epoch 47/1000\n",
            "157/168 [===========================>..] - ETA: 0s - loss: 0.0941 - accuracy: 0.9735\n",
            "Epoch 47: val_loss did not improve from 0.04725\n",
            "168/168 [==============================] - 1s 4ms/step - loss: 0.0936 - accuracy: 0.9735 - val_loss: 0.0588 - val_accuracy: 0.9828\n",
            "Epoch 48/1000\n",
            "162/168 [===========================>..] - ETA: 0s - loss: 0.0723 - accuracy: 0.9751\n",
            "Epoch 48: val_loss did not improve from 0.04725\n",
            "168/168 [==============================] - 1s 5ms/step - loss: 0.0738 - accuracy: 0.9750 - val_loss: 0.0914 - val_accuracy: 0.9694\n",
            "Epoch 49/1000\n",
            "167/168 [============================>.] - ETA: 0s - loss: 0.0771 - accuracy: 0.9779\n",
            "Epoch 49: val_loss did not improve from 0.04725\n",
            "168/168 [==============================] - 1s 4ms/step - loss: 0.0770 - accuracy: 0.9780 - val_loss: 0.0589 - val_accuracy: 0.9776\n",
            "Epoch 50/1000\n",
            "163/168 [============================>.] - ETA: 0s - loss: 0.0739 - accuracy: 0.9741\n",
            "Epoch 50: val_loss improved from 0.04725 to 0.03964, saving model to /content/drive/MyDrive/Sign_speak_gesture_recognition/model/keypoint_classifier_1.hdf5\n",
            "168/168 [==============================] - 1s 7ms/step - loss: 0.0741 - accuracy: 0.9740 - val_loss: 0.0396 - val_accuracy: 0.9895\n",
            "Epoch 51/1000\n",
            "162/168 [===========================>..] - ETA: 0s - loss: 0.0832 - accuracy: 0.9749\n",
            "Epoch 51: val_loss did not improve from 0.03964\n",
            "168/168 [==============================] - 1s 5ms/step - loss: 0.0829 - accuracy: 0.9750 - val_loss: 0.0615 - val_accuracy: 0.9866\n",
            "Epoch 52/1000\n",
            "164/168 [============================>.] - ETA: 0s - loss: 0.0659 - accuracy: 0.9798\n",
            "Epoch 52: val_loss did not improve from 0.03964\n",
            "168/168 [==============================] - 1s 4ms/step - loss: 0.0669 - accuracy: 0.9795 - val_loss: 0.0638 - val_accuracy: 0.9836\n",
            "Epoch 53/1000\n",
            "160/168 [===========================>..] - ETA: 0s - loss: 0.0911 - accuracy: 0.9715\n",
            "Epoch 53: val_loss did not improve from 0.03964\n",
            "168/168 [==============================] - 1s 4ms/step - loss: 0.0903 - accuracy: 0.9720 - val_loss: 0.0506 - val_accuracy: 0.9866\n",
            "Epoch 54/1000\n",
            "167/168 [============================>.] - ETA: 0s - loss: 0.0722 - accuracy: 0.9766\n",
            "Epoch 54: val_loss did not improve from 0.03964\n",
            "168/168 [==============================] - 1s 5ms/step - loss: 0.0721 - accuracy: 0.9767 - val_loss: 0.0555 - val_accuracy: 0.9813\n",
            "Epoch 55/1000\n",
            "156/168 [==========================>...] - ETA: 0s - loss: 0.0768 - accuracy: 0.9738\n",
            "Epoch 55: val_loss did not improve from 0.03964\n",
            "168/168 [==============================] - 1s 5ms/step - loss: 0.0737 - accuracy: 0.9748 - val_loss: 0.0521 - val_accuracy: 0.9828\n",
            "Epoch 56/1000\n",
            "164/168 [============================>.] - ETA: 0s - loss: 0.0619 - accuracy: 0.9790\n",
            "Epoch 56: val_loss did not improve from 0.03964\n",
            "168/168 [==============================] - 1s 4ms/step - loss: 0.0614 - accuracy: 0.9793 - val_loss: 0.0450 - val_accuracy: 0.9873\n",
            "Epoch 57/1000\n",
            "165/168 [============================>.] - ETA: 0s - loss: 0.0611 - accuracy: 0.9809\n",
            "Epoch 57: val_loss improved from 0.03964 to 0.03642, saving model to /content/drive/MyDrive/Sign_speak_gesture_recognition/model/keypoint_classifier_1.hdf5\n",
            "168/168 [==============================] - 1s 6ms/step - loss: 0.0613 - accuracy: 0.9808 - val_loss: 0.0364 - val_accuracy: 0.9858\n",
            "Epoch 58/1000\n",
            "165/168 [============================>.] - ETA: 0s - loss: 0.0931 - accuracy: 0.9718\n",
            "Epoch 58: val_loss did not improve from 0.03642\n",
            "168/168 [==============================] - 1s 8ms/step - loss: 0.0930 - accuracy: 0.9718 - val_loss: 0.0397 - val_accuracy: 0.9881\n",
            "Epoch 59/1000\n",
            "164/168 [============================>.] - ETA: 0s - loss: 0.0790 - accuracy: 0.9785\n",
            "Epoch 59: val_loss improved from 0.03642 to 0.03089, saving model to /content/drive/MyDrive/Sign_speak_gesture_recognition/model/keypoint_classifier_1.hdf5\n",
            "168/168 [==============================] - 1s 8ms/step - loss: 0.0787 - accuracy: 0.9783 - val_loss: 0.0309 - val_accuracy: 0.9888\n",
            "Epoch 60/1000\n",
            "167/168 [============================>.] - ETA: 0s - loss: 0.0621 - accuracy: 0.9805\n",
            "Epoch 60: val_loss did not improve from 0.03089\n",
            "168/168 [==============================] - 1s 8ms/step - loss: 0.0621 - accuracy: 0.9806 - val_loss: 0.0774 - val_accuracy: 0.9768\n",
            "Epoch 61/1000\n",
            "164/168 [============================>.] - ETA: 0s - loss: 0.0567 - accuracy: 0.9808\n",
            "Epoch 61: val_loss did not improve from 0.03089\n",
            "168/168 [==============================] - 1s 9ms/step - loss: 0.0566 - accuracy: 0.9806 - val_loss: 0.0471 - val_accuracy: 0.9843\n",
            "Epoch 62/1000\n",
            "161/168 [===========================>..] - ETA: 0s - loss: 0.0566 - accuracy: 0.9808\n",
            "Epoch 62: val_loss did not improve from 0.03089\n",
            "168/168 [==============================] - 1s 5ms/step - loss: 0.0559 - accuracy: 0.9811 - val_loss: 0.0459 - val_accuracy: 0.9828\n",
            "Epoch 63/1000\n",
            "168/168 [==============================] - ETA: 0s - loss: 0.0613 - accuracy: 0.9826\n",
            "Epoch 63: val_loss did not improve from 0.03089\n",
            "168/168 [==============================] - 1s 5ms/step - loss: 0.0613 - accuracy: 0.9826 - val_loss: 0.0536 - val_accuracy: 0.9798\n",
            "Epoch 64/1000\n",
            "162/168 [===========================>..] - ETA: 0s - loss: 0.0557 - accuracy: 0.9821\n",
            "Epoch 64: val_loss did not improve from 0.03089\n",
            "168/168 [==============================] - 1s 4ms/step - loss: 0.0558 - accuracy: 0.9821 - val_loss: 0.0399 - val_accuracy: 0.9851\n",
            "Epoch 65/1000\n",
            "156/168 [==========================>...] - ETA: 0s - loss: 0.0571 - accuracy: 0.9816\n",
            "Epoch 65: val_loss did not improve from 0.03089\n",
            "168/168 [==============================] - 1s 4ms/step - loss: 0.0589 - accuracy: 0.9821 - val_loss: 0.0323 - val_accuracy: 0.9866\n",
            "Epoch 66/1000\n",
            "160/168 [===========================>..] - ETA: 0s - loss: 0.0547 - accuracy: 0.9811\n",
            "Epoch 66: val_loss improved from 0.03089 to 0.02547, saving model to /content/drive/MyDrive/Sign_speak_gesture_recognition/model/keypoint_classifier_1.hdf5\n",
            "168/168 [==============================] - 1s 5ms/step - loss: 0.0552 - accuracy: 0.9808 - val_loss: 0.0255 - val_accuracy: 0.9903\n",
            "Epoch 67/1000\n",
            "158/168 [===========================>..] - ETA: 0s - loss: 0.0725 - accuracy: 0.9763\n",
            "Epoch 67: val_loss did not improve from 0.02547\n",
            "168/168 [==============================] - 1s 5ms/step - loss: 0.0744 - accuracy: 0.9761 - val_loss: 0.0774 - val_accuracy: 0.9709\n",
            "Epoch 68/1000\n",
            "168/168 [==============================] - ETA: 0s - loss: 0.0796 - accuracy: 0.9757\n",
            "Epoch 68: val_loss did not improve from 0.02547\n",
            "168/168 [==============================] - 1s 5ms/step - loss: 0.0796 - accuracy: 0.9757 - val_loss: 0.0434 - val_accuracy: 0.9873\n",
            "Epoch 69/1000\n",
            "168/168 [==============================] - ETA: 0s - loss: 0.0656 - accuracy: 0.9817\n",
            "Epoch 69: val_loss did not improve from 0.02547\n",
            "168/168 [==============================] - 1s 5ms/step - loss: 0.0656 - accuracy: 0.9817 - val_loss: 0.0329 - val_accuracy: 0.9873\n",
            "Epoch 70/1000\n",
            "167/168 [============================>.] - ETA: 0s - loss: 0.0632 - accuracy: 0.9798\n",
            "Epoch 70: val_loss did not improve from 0.02547\n",
            "168/168 [==============================] - 1s 4ms/step - loss: 0.0630 - accuracy: 0.9798 - val_loss: 0.1262 - val_accuracy: 0.9656\n",
            "Epoch 71/1000\n",
            "157/168 [===========================>..] - ETA: 0s - loss: 0.0619 - accuracy: 0.9783\n",
            "Epoch 71: val_loss did not improve from 0.02547\n",
            "168/168 [==============================] - 1s 4ms/step - loss: 0.0621 - accuracy: 0.9785 - val_loss: 0.0441 - val_accuracy: 0.9858\n",
            "Epoch 72/1000\n",
            "162/168 [===========================>..] - ETA: 0s - loss: 0.0502 - accuracy: 0.9826\n",
            "Epoch 72: val_loss did not improve from 0.02547\n",
            "168/168 [==============================] - 1s 6ms/step - loss: 0.0503 - accuracy: 0.9824 - val_loss: 0.0599 - val_accuracy: 0.9791\n",
            "Epoch 73/1000\n",
            "165/168 [============================>.] - ETA: 0s - loss: 0.0564 - accuracy: 0.9816\n",
            "Epoch 73: val_loss did not improve from 0.02547\n",
            "168/168 [==============================] - 3s 16ms/step - loss: 0.0557 - accuracy: 0.9819 - val_loss: 0.0276 - val_accuracy: 0.9895\n",
            "Epoch 74/1000\n",
            "161/168 [===========================>..] - ETA: 0s - loss: 0.0424 - accuracy: 0.9870\n",
            "Epoch 74: val_loss did not improve from 0.02547\n",
            "168/168 [==============================] - 2s 11ms/step - loss: 0.0442 - accuracy: 0.9866 - val_loss: 0.0260 - val_accuracy: 0.9925\n",
            "Epoch 75/1000\n",
            "161/168 [===========================>..] - ETA: 0s - loss: 0.0632 - accuracy: 0.9808\n",
            "Epoch 75: val_loss did not improve from 0.02547\n",
            "168/168 [==============================] - 1s 6ms/step - loss: 0.0624 - accuracy: 0.9808 - val_loss: 0.0425 - val_accuracy: 0.9881\n",
            "Epoch 76/1000\n",
            "161/168 [===========================>..] - ETA: 0s - loss: 0.0477 - accuracy: 0.9858\n",
            "Epoch 76: val_loss did not improve from 0.02547\n",
            "168/168 [==============================] - 1s 5ms/step - loss: 0.0502 - accuracy: 0.9852 - val_loss: 0.0363 - val_accuracy: 0.9851\n",
            "Epoch 77/1000\n",
            "167/168 [============================>.] - ETA: 0s - loss: 0.0551 - accuracy: 0.9826\n",
            "Epoch 77: val_loss did not improve from 0.02547\n",
            "168/168 [==============================] - 1s 5ms/step - loss: 0.0583 - accuracy: 0.9821 - val_loss: 0.0272 - val_accuracy: 0.9873\n",
            "Epoch 78/1000\n",
            "162/168 [===========================>..] - ETA: 0s - loss: 0.0563 - accuracy: 0.9813\n",
            "Epoch 78: val_loss did not improve from 0.02547\n",
            "168/168 [==============================] - 1s 4ms/step - loss: 0.0564 - accuracy: 0.9813 - val_loss: 0.0573 - val_accuracy: 0.9843\n",
            "Epoch 79/1000\n",
            "167/168 [============================>.] - ETA: 0s - loss: 0.0551 - accuracy: 0.9843\n",
            "Epoch 79: val_loss did not improve from 0.02547\n",
            "168/168 [==============================] - 1s 4ms/step - loss: 0.0550 - accuracy: 0.9843 - val_loss: 0.0321 - val_accuracy: 0.9910\n",
            "Epoch 80/1000\n",
            "167/168 [============================>.] - ETA: 0s - loss: 0.0475 - accuracy: 0.9858\n",
            "Epoch 80: val_loss did not improve from 0.02547\n",
            "168/168 [==============================] - 1s 4ms/step - loss: 0.0474 - accuracy: 0.9858 - val_loss: 0.0263 - val_accuracy: 0.9903\n",
            "Epoch 81/1000\n",
            "156/168 [==========================>...] - ETA: 0s - loss: 0.0416 - accuracy: 0.9876\n",
            "Epoch 81: val_loss did not improve from 0.02547\n",
            "168/168 [==============================] - 1s 4ms/step - loss: 0.0410 - accuracy: 0.9880 - val_loss: 0.0293 - val_accuracy: 0.9925\n",
            "Epoch 82/1000\n",
            "165/168 [============================>.] - ETA: 0s - loss: 0.0447 - accuracy: 0.9862\n",
            "Epoch 82: val_loss did not improve from 0.02547\n",
            "168/168 [==============================] - 1s 4ms/step - loss: 0.0444 - accuracy: 0.9864 - val_loss: 0.0348 - val_accuracy: 0.9895\n",
            "Epoch 83/1000\n",
            "163/168 [============================>.] - ETA: 0s - loss: 0.0651 - accuracy: 0.9783\n",
            "Epoch 83: val_loss did not improve from 0.02547\n",
            "168/168 [==============================] - 1s 4ms/step - loss: 0.0657 - accuracy: 0.9782 - val_loss: 0.0389 - val_accuracy: 0.9881\n",
            "Epoch 84/1000\n",
            "166/168 [============================>.] - ETA: 0s - loss: 0.0507 - accuracy: 0.9840\n",
            "Epoch 84: val_loss improved from 0.02547 to 0.02424, saving model to /content/drive/MyDrive/Sign_speak_gesture_recognition/model/keypoint_classifier_1.hdf5\n",
            "168/168 [==============================] - 1s 8ms/step - loss: 0.0505 - accuracy: 0.9841 - val_loss: 0.0242 - val_accuracy: 0.9888\n",
            "Epoch 85/1000\n",
            "168/168 [==============================] - ETA: 0s - loss: 0.0561 - accuracy: 0.9828\n",
            "Epoch 85: val_loss did not improve from 0.02424\n",
            "168/168 [==============================] - 1s 5ms/step - loss: 0.0561 - accuracy: 0.9828 - val_loss: 0.0405 - val_accuracy: 0.9821\n",
            "Epoch 86/1000\n",
            "159/168 [===========================>..] - ETA: 0s - loss: 0.0619 - accuracy: 0.9815\n",
            "Epoch 86: val_loss did not improve from 0.02424\n",
            "168/168 [==============================] - 1s 4ms/step - loss: 0.0606 - accuracy: 0.9819 - val_loss: 0.0430 - val_accuracy: 0.9851\n",
            "Epoch 87/1000\n",
            "162/168 [===========================>..] - ETA: 0s - loss: 0.0571 - accuracy: 0.9811\n",
            "Epoch 87: val_loss did not improve from 0.02424\n",
            "168/168 [==============================] - 1s 6ms/step - loss: 0.0572 - accuracy: 0.9810 - val_loss: 0.0677 - val_accuracy: 0.9783\n",
            "Epoch 88/1000\n",
            "164/168 [============================>.] - ETA: 0s - loss: 0.0667 - accuracy: 0.9800\n",
            "Epoch 88: val_loss did not improve from 0.02424\n",
            "168/168 [==============================] - 1s 8ms/step - loss: 0.0657 - accuracy: 0.9804 - val_loss: 0.0324 - val_accuracy: 0.9866\n",
            "Epoch 89/1000\n",
            "164/168 [============================>.] - ETA: 0s - loss: 0.0380 - accuracy: 0.9878\n",
            "Epoch 89: val_loss did not improve from 0.02424\n",
            "168/168 [==============================] - 1s 8ms/step - loss: 0.0385 - accuracy: 0.9875 - val_loss: 0.0332 - val_accuracy: 0.9918\n",
            "Epoch 90/1000\n",
            "167/168 [============================>.] - ETA: 0s - loss: 0.0547 - accuracy: 0.9828\n",
            "Epoch 90: val_loss improved from 0.02424 to 0.01366, saving model to /content/drive/MyDrive/Sign_speak_gesture_recognition/model/keypoint_classifier_1.hdf5\n",
            "168/168 [==============================] - 1s 8ms/step - loss: 0.0547 - accuracy: 0.9828 - val_loss: 0.0137 - val_accuracy: 0.9963\n",
            "Epoch 91/1000\n",
            "168/168 [==============================] - ETA: 0s - loss: 0.0484 - accuracy: 0.9849\n",
            "Epoch 91: val_loss did not improve from 0.01366\n",
            "168/168 [==============================] - 1s 7ms/step - loss: 0.0484 - accuracy: 0.9849 - val_loss: 0.0486 - val_accuracy: 0.9791\n",
            "Epoch 92/1000\n",
            "161/168 [===========================>..] - ETA: 0s - loss: 0.0384 - accuracy: 0.9876\n",
            "Epoch 92: val_loss did not improve from 0.01366\n",
            "168/168 [==============================] - 1s 5ms/step - loss: 0.0381 - accuracy: 0.9877 - val_loss: 0.0198 - val_accuracy: 0.9970\n",
            "Epoch 93/1000\n",
            "165/168 [============================>.] - ETA: 0s - loss: 0.0666 - accuracy: 0.9795\n",
            "Epoch 93: val_loss did not improve from 0.01366\n",
            "168/168 [==============================] - 1s 5ms/step - loss: 0.0663 - accuracy: 0.9798 - val_loss: 0.0226 - val_accuracy: 0.9918\n",
            "Epoch 94/1000\n",
            "160/168 [===========================>..] - ETA: 0s - loss: 0.0513 - accuracy: 0.9848\n",
            "Epoch 94: val_loss did not improve from 0.01366\n",
            "168/168 [==============================] - 1s 5ms/step - loss: 0.0511 - accuracy: 0.9847 - val_loss: 0.0517 - val_accuracy: 0.9828\n",
            "Epoch 95/1000\n",
            "159/168 [===========================>..] - ETA: 0s - loss: 0.0444 - accuracy: 0.9862\n",
            "Epoch 95: val_loss did not improve from 0.01366\n",
            "168/168 [==============================] - 1s 4ms/step - loss: 0.0457 - accuracy: 0.9858 - val_loss: 0.0234 - val_accuracy: 0.9933\n",
            "Epoch 96/1000\n",
            "164/168 [============================>.] - ETA: 0s - loss: 0.0344 - accuracy: 0.9891\n",
            "Epoch 96: val_loss did not improve from 0.01366\n",
            "168/168 [==============================] - 1s 4ms/step - loss: 0.0359 - accuracy: 0.9892 - val_loss: 0.0217 - val_accuracy: 0.9918\n",
            "Epoch 97/1000\n",
            "164/168 [============================>.] - ETA: 0s - loss: 0.0551 - accuracy: 0.9838\n",
            "Epoch 97: val_loss did not improve from 0.01366\n",
            "168/168 [==============================] - 1s 5ms/step - loss: 0.0566 - accuracy: 0.9834 - val_loss: 0.0278 - val_accuracy: 0.9918\n",
            "Epoch 98/1000\n",
            "157/168 [===========================>..] - ETA: 0s - loss: 0.0584 - accuracy: 0.9797\n",
            "Epoch 98: val_loss did not improve from 0.01366\n",
            "168/168 [==============================] - 1s 5ms/step - loss: 0.0570 - accuracy: 0.9802 - val_loss: 0.0236 - val_accuracy: 0.9910\n",
            "Epoch 99/1000\n",
            "160/168 [===========================>..] - ETA: 0s - loss: 0.0423 - accuracy: 0.9889\n",
            "Epoch 99: val_loss did not improve from 0.01366\n",
            "168/168 [==============================] - 1s 4ms/step - loss: 0.0432 - accuracy: 0.9886 - val_loss: 0.0244 - val_accuracy: 0.9925\n",
            "Epoch 100/1000\n",
            "164/168 [============================>.] - ETA: 0s - loss: 0.0395 - accuracy: 0.9880\n",
            "Epoch 100: val_loss did not improve from 0.01366\n",
            "168/168 [==============================] - 1s 4ms/step - loss: 0.0397 - accuracy: 0.9879 - val_loss: 0.0294 - val_accuracy: 0.9895\n",
            "Epoch 101/1000\n",
            "165/168 [============================>.] - ETA: 0s - loss: 0.0595 - accuracy: 0.9805\n",
            "Epoch 101: val_loss did not improve from 0.01366\n",
            "168/168 [==============================] - 1s 4ms/step - loss: 0.0594 - accuracy: 0.9808 - val_loss: 0.0457 - val_accuracy: 0.9866\n",
            "Epoch 102/1000\n",
            "160/168 [===========================>..] - ETA: 0s - loss: 0.0618 - accuracy: 0.9803\n",
            "Epoch 102: val_loss did not improve from 0.01366\n",
            "168/168 [==============================] - 1s 4ms/step - loss: 0.0612 - accuracy: 0.9804 - val_loss: 0.0283 - val_accuracy: 0.9888\n",
            "Epoch 103/1000\n",
            "161/168 [===========================>..] - ETA: 0s - loss: 0.0648 - accuracy: 0.9788\n",
            "Epoch 103: val_loss did not improve from 0.01366\n",
            "168/168 [==============================] - 1s 4ms/step - loss: 0.0668 - accuracy: 0.9783 - val_loss: 0.0295 - val_accuracy: 0.9895\n",
            "Epoch 104/1000\n",
            "160/168 [===========================>..] - ETA: 0s - loss: 0.0421 - accuracy: 0.9857\n",
            "Epoch 104: val_loss did not improve from 0.01366\n",
            "168/168 [==============================] - 1s 6ms/step - loss: 0.0418 - accuracy: 0.9858 - val_loss: 0.0403 - val_accuracy: 0.9910\n",
            "Epoch 105/1000\n",
            "167/168 [============================>.] - ETA: 0s - loss: 0.0522 - accuracy: 0.9809\n",
            "Epoch 105: val_loss did not improve from 0.01366\n",
            "168/168 [==============================] - 1s 7ms/step - loss: 0.0521 - accuracy: 0.9810 - val_loss: 0.0326 - val_accuracy: 0.9888\n",
            "Epoch 106/1000\n",
            "166/168 [============================>.] - ETA: 0s - loss: 0.0376 - accuracy: 0.9868\n",
            "Epoch 106: val_loss did not improve from 0.01366\n",
            "168/168 [==============================] - 1s 7ms/step - loss: 0.0387 - accuracy: 0.9866 - val_loss: 0.0644 - val_accuracy: 0.9761\n",
            "Epoch 107/1000\n",
            "168/168 [==============================] - ETA: 0s - loss: 0.0444 - accuracy: 0.9834\n",
            "Epoch 107: val_loss did not improve from 0.01366\n",
            "168/168 [==============================] - 1s 8ms/step - loss: 0.0444 - accuracy: 0.9834 - val_loss: 0.0147 - val_accuracy: 0.9955\n",
            "Epoch 108/1000\n",
            "167/168 [============================>.] - ETA: 0s - loss: 0.0355 - accuracy: 0.9905\n",
            "Epoch 108: val_loss did not improve from 0.01366\n",
            "168/168 [==============================] - 1s 5ms/step - loss: 0.0362 - accuracy: 0.9903 - val_loss: 0.0150 - val_accuracy: 0.9955\n",
            "Epoch 109/1000\n",
            "157/168 [===========================>..] - ETA: 0s - loss: 0.0600 - accuracy: 0.9801\n",
            "Epoch 109: val_loss did not improve from 0.01366\n",
            "168/168 [==============================] - 1s 5ms/step - loss: 0.0600 - accuracy: 0.9800 - val_loss: 0.0236 - val_accuracy: 0.9903\n",
            "Epoch 110/1000\n",
            "156/168 [==========================>...] - ETA: 0s - loss: 0.0682 - accuracy: 0.9782\n",
            "Epoch 110: val_loss did not improve from 0.01366\n",
            "Restoring model weights from the end of the best epoch: 90.\n",
            "168/168 [==============================] - 1s 5ms/step - loss: 0.0668 - accuracy: 0.9789 - val_loss: 0.0281 - val_accuracy: 0.9948\n",
            "Epoch 110: early stopping\n"
          ]
        }
      ],
      "source": [
        "model_history = model.fit(X_train,\n",
        "                          y_train,\n",
        "                          epochs=1000,\n",
        "                          batch_size=32,\n",
        "                          validation_data=(X_test, y_test),\n",
        "                          callbacks=[cp_callback, es_callback]\n",
        "                          )"
      ]
    },
    {
      "cell_type": "code",
      "source": [
        "# Extract loss and accuracy from history\n",
        "train_loss = model_history.history['loss']\n",
        "val_loss = model_history.history['val_loss']\n",
        "train_acc = model_history.history['accuracy']\n",
        "val_acc = model_history.history['val_accuracy']\n",
        "\n",
        "# Define a threshold to check if losses are too high (possible underfitting)\n",
        "loss_threshold = 0.5  # Adjust this based on your dataset\n",
        "\n",
        "# Overfitting: Validation loss increasing while training loss decreases\n",
        "if val_loss[-1] > val_loss[-5] and train_loss[-1] < train_loss[-5]:\n",
        "    print(\"⚠️ Warning: The model is overfitting! Consider using regularization, dropout, or early stopping.\")\n",
        "\n",
        "# Overfitting: Training accuracy is much higher than validation accuracy\n",
        "elif train_acc[-1] - val_acc[-1] > 0.05:  # 5% accuracy gap\n",
        "    print(\"⚠️ Warning: Possible overfitting. Training accuracy is significantly higher than validation accuracy.\")\n",
        "\n",
        "# Underfitting: Both training and validation loss are high, and accuracy is low\n",
        "elif train_loss[-1] > loss_threshold and val_loss[-1] > loss_threshold:\n",
        "    print(\"⚠️ Warning: The model is underfitting. Consider increasing model complexity or training longer.\")\n",
        "\n",
        "# Underfitting: Training and validation accuracy both remain low\n",
        "elif train_acc[-1] < 0.7 and val_acc[-1] < 0.7:  # Adjust threshold as needed\n",
        "    print(\"⚠️ Warning: Possible underfitting. Model is not learning well enough.\")\n",
        "\n",
        "else:\n",
        "    print(\"✅ No significant overfitting or underfitting detected.\")\n"
      ],
      "metadata": {
        "colab": {
          "base_uri": "https://localhost:8080/"
        },
        "id": "fjHwL5yhMmYh",
        "outputId": "6d4d35f6-9fb6-4c68-fa46-79c23467b893"
      },
      "execution_count": 57,
      "outputs": [
        {
          "output_type": "stream",
          "name": "stdout",
          "text": [
            "✅ No significant overfitting or underfitting detected.\n"
          ]
        }
      ]
    },
    {
      "cell_type": "code",
      "execution_count": 58,
      "metadata": {
        "colab": {
          "base_uri": "https://localhost:8080/"
        },
        "id": "pxvb2Y299hE3",
        "outputId": "c65af94e-241c-4c1f-80c3-d370db8d3f41"
      },
      "outputs": [
        {
          "output_type": "stream",
          "name": "stdout",
          "text": [
            "21/21 [==============================] - 0s 3ms/step - loss: 0.0137 - accuracy: 0.9963\n"
          ]
        }
      ],
      "source": [
        "# Model evaluation\n",
        "val_loss, val_acc = model.evaluate(X_test, y_test, batch_size=64)"
      ]
    },
    {
      "cell_type": "code",
      "source": [
        "import plotly.express as px\n",
        "# Plot loss and accuracy curves\n",
        "epochs = list(range(1, len(model_history.history['loss']) + 1))\n",
        "\n",
        "fig_loss = px.line(x=epochs, y=model_history.history['loss'], labels={'x': 'Epoch', 'y': 'Loss'}, title='Training Loss')\n",
        "fig_loss.add_scatter(x=epochs, y=model_history.history['val_loss'], mode='lines', name='Validation Loss')\n",
        "fig_loss.show()\n",
        "\n",
        "fig_acc = px.line(x=epochs, y=model_history.history['accuracy'], labels={'x': 'Epoch', 'y': 'Accuracy'}, title='Training Accuracy')\n",
        "fig_acc.add_scatter(x=epochs, y=model_history.history['val_accuracy'], mode='lines', name='Validation Accuracy')\n",
        "fig_acc.show()"
      ],
      "metadata": {
        "colab": {
          "base_uri": "https://localhost:8080/",
          "height": 1000
        },
        "id": "babIQgMvMTYT",
        "outputId": "b32d16d2-ef00-43e7-c51e-7c1b1eec6cbd"
      },
      "execution_count": 59,
      "outputs": [
        {
          "output_type": "display_data",
          "data": {
            "text/html": [
              "<html>\n",
              "<head><meta charset=\"utf-8\" /></head>\n",
              "<body>\n",
              "    <div>            <script src=\"https://cdnjs.cloudflare.com/ajax/libs/mathjax/2.7.5/MathJax.js?config=TeX-AMS-MML_SVG\"></script><script type=\"text/javascript\">if (window.MathJax && window.MathJax.Hub && window.MathJax.Hub.Config) {window.MathJax.Hub.Config({SVG: {font: \"STIX-Web\"}});}</script>                <script type=\"text/javascript\">window.PlotlyConfig = {MathJaxConfig: 'local'};</script>\n",
              "        <script charset=\"utf-8\" src=\"https://cdn.plot.ly/plotly-2.35.2.min.js\"></script>                <div id=\"b16a5ae5-b932-490d-a6e2-d0494a7ca61b\" class=\"plotly-graph-div\" style=\"height:525px; width:100%;\"></div>            <script type=\"text/javascript\">                                    window.PLOTLYENV=window.PLOTLYENV || {};                                    if (document.getElementById(\"b16a5ae5-b932-490d-a6e2-d0494a7ca61b\")) {                    Plotly.newPlot(                        \"b16a5ae5-b932-490d-a6e2-d0494a7ca61b\",                        [{\"hovertemplate\":\"Epoch=%{x}\\u003cbr\\u003eLoss=%{y}\\u003cextra\\u003e\\u003c\\u002fextra\\u003e\",\"legendgroup\":\"\",\"line\":{\"color\":\"#636efa\",\"dash\":\"solid\"},\"marker\":{\"symbol\":\"circle\"},\"mode\":\"lines\",\"name\":\"\",\"orientation\":\"v\",\"showlegend\":false,\"x\":[1,2,3,4,5,6,7,8,9,10,11,12,13,14,15,16,17,18,19,20,21,22,23,24,25,26,27,28,29,30,31,32,33,34,35,36,37,38,39,40,41,42,43,44,45,46,47,48,49,50,51,52,53,54,55,56,57,58,59,60,61,62,63,64,65,66,67,68,69,70,71,72,73,74,75,76,77,78,79,80,81,82,83,84,85,86,87,88,89,90,91,92,93,94,95,96,97,98,99,100,101,102,103,104,105,106,107,108,109,110],\"xaxis\":\"x\",\"y\":[1.4169853925704956,0.8261958360671997,0.6427571773529053,0.5474416613578796,0.44737502932548523,0.39290180802345276,0.3432731032371521,0.2953016459941864,0.2672589123249054,0.2614196836948395,0.21730253100395203,0.21907567977905273,0.219563826918602,0.18130850791931152,0.17503412067890167,0.17935845255851746,0.17623089253902435,0.15463531017303467,0.14791594445705414,0.15073660016059875,0.13292959332466125,0.14389120042324066,0.1340673714876175,0.1418450027704239,0.11550503969192505,0.1271592676639557,0.12631180882453918,0.12018422782421112,0.1096174344420433,0.10617176443338394,0.1194242388010025,0.08781030774116516,0.08943873643875122,0.10225313901901245,0.08182919770479202,0.10284063965082169,0.12036597728729248,0.08948294818401337,0.10095111280679703,0.10292056947946548,0.08419021219015121,0.0727776512503624,0.08324874937534332,0.09925151616334915,0.06516057997941971,0.07081664353609085,0.0935550183057785,0.07375922799110413,0.07695966958999634,0.07413311302661896,0.08293028175830841,0.06691107153892517,0.09030959010124207,0.07207455486059189,0.07365310192108154,0.061362940818071365,0.06132863834500313,0.09300331771373749,0.078741155564785,0.062146060168743134,0.05656031146645546,0.055882398039102554,0.06131504103541374,0.05577852576971054,0.058883532881736755,0.05516687408089638,0.07443536818027496,0.07959923148155212,0.06564455479383469,0.06302730739116669,0.062090642750263214,0.05026872456073761,0.055700164288282394,0.0442054346203804,0.062374431639909744,0.05021550878882408,0.05828741565346718,0.05639241635799408,0.054964467883110046,0.047394584864377975,0.04095515236258507,0.04443715140223503,0.06570879369974136,0.050470542162656784,0.056149911135435104,0.060617268085479736,0.057210467755794525,0.0656609833240509,0.03849570453166962,0.054721295833587646,0.04844620078802109,0.03809604048728943,0.06631117314100266,0.05109354853630066,0.045726142823696136,0.03586902841925621,0.056553591042757034,0.05700017511844635,0.043231815099716187,0.03965502604842186,0.05941573530435562,0.06120207533240318,0.06683221459388733,0.04183100536465645,0.0520947091281414,0.0386696383357048,0.04443015903234482,0.03620268404483795,0.060045987367630005,0.06678719818592072],\"yaxis\":\"y\",\"type\":\"scatter\"},{\"mode\":\"lines\",\"name\":\"Validation Loss\",\"x\":[1,2,3,4,5,6,7,8,9,10,11,12,13,14,15,16,17,18,19,20,21,22,23,24,25,26,27,28,29,30,31,32,33,34,35,36,37,38,39,40,41,42,43,44,45,46,47,48,49,50,51,52,53,54,55,56,57,58,59,60,61,62,63,64,65,66,67,68,69,70,71,72,73,74,75,76,77,78,79,80,81,82,83,84,85,86,87,88,89,90,91,92,93,94,95,96,97,98,99,100,101,102,103,104,105,106,107,108,109,110],\"y\":[0.7894200682640076,0.5614509582519531,0.4584182798862457,0.3483695387840271,0.32619649171829224,0.3050716519355774,0.22711431980133057,0.21628521382808685,0.17046378552913666,0.1935279816389084,0.1287657618522644,0.1321287602186203,0.14737799763679504,0.11943269520998001,0.12278205156326294,0.12011884897947311,0.15082873404026031,0.10146132111549377,0.10865134000778198,0.09444303810596466,0.0995076596736908,0.11634094268083572,0.12322976440191269,0.09481943398714066,0.09187638759613037,0.09397437423467636,0.09664138406515121,0.07493264228105545,0.10415378212928772,0.07422760874032974,0.0743742510676384,0.07423557341098785,0.09455249458551407,0.05787975341081619,0.06575866043567657,0.0619661882519722,0.05669397488236427,0.0877293050289154,0.047246500849723816,0.05428994446992874,0.07137905806303024,0.09232566505670547,0.1662002056837082,0.05598482862114906,0.0646873265504837,0.06637654453516006,0.058806125074625015,0.09136368334293365,0.05891013517975807,0.039641864597797394,0.0614677295088768,0.06377724558115005,0.05061480030417442,0.05551913380622864,0.05214708298444748,0.04497241601347923,0.03641552850604057,0.03973231837153435,0.030892396345734596,0.07736961543560028,0.04708121716976166,0.0459103100001812,0.053550560027360916,0.03991051763296127,0.03225063160061836,0.02547171339392662,0.07736116647720337,0.04342123493552208,0.03288740664720535,0.1261957287788391,0.04413933679461479,0.05994707718491554,0.02759420871734619,0.025994811207056046,0.04251902177929878,0.03629319369792938,0.02724147029221058,0.057278115302324295,0.03212737292051315,0.02626696042716503,0.02932104468345642,0.03477413207292557,0.038866255432367325,0.02424495667219162,0.04047492519021034,0.04295489937067032,0.06771887838840485,0.03236643224954605,0.033228978514671326,0.013661331497132778,0.048609357327222824,0.01978030800819397,0.022568095475435257,0.05167775973677635,0.02339606173336506,0.021743079647421837,0.027781041339039803,0.023639321327209473,0.024378208443522453,0.02940152771770954,0.045732542872428894,0.028328027576208115,0.029469462111592293,0.04028712213039398,0.03256572037935257,0.06441455334424973,0.01469794474542141,0.015043705701828003,0.02355816587805748,0.028130773454904556],\"type\":\"scatter\"}],                        {\"template\":{\"data\":{\"histogram2dcontour\":[{\"type\":\"histogram2dcontour\",\"colorbar\":{\"outlinewidth\":0,\"ticks\":\"\"},\"colorscale\":[[0.0,\"#0d0887\"],[0.1111111111111111,\"#46039f\"],[0.2222222222222222,\"#7201a8\"],[0.3333333333333333,\"#9c179e\"],[0.4444444444444444,\"#bd3786\"],[0.5555555555555556,\"#d8576b\"],[0.6666666666666666,\"#ed7953\"],[0.7777777777777778,\"#fb9f3a\"],[0.8888888888888888,\"#fdca26\"],[1.0,\"#f0f921\"]]}],\"choropleth\":[{\"type\":\"choropleth\",\"colorbar\":{\"outlinewidth\":0,\"ticks\":\"\"}}],\"histogram2d\":[{\"type\":\"histogram2d\",\"colorbar\":{\"outlinewidth\":0,\"ticks\":\"\"},\"colorscale\":[[0.0,\"#0d0887\"],[0.1111111111111111,\"#46039f\"],[0.2222222222222222,\"#7201a8\"],[0.3333333333333333,\"#9c179e\"],[0.4444444444444444,\"#bd3786\"],[0.5555555555555556,\"#d8576b\"],[0.6666666666666666,\"#ed7953\"],[0.7777777777777778,\"#fb9f3a\"],[0.8888888888888888,\"#fdca26\"],[1.0,\"#f0f921\"]]}],\"heatmap\":[{\"type\":\"heatmap\",\"colorbar\":{\"outlinewidth\":0,\"ticks\":\"\"},\"colorscale\":[[0.0,\"#0d0887\"],[0.1111111111111111,\"#46039f\"],[0.2222222222222222,\"#7201a8\"],[0.3333333333333333,\"#9c179e\"],[0.4444444444444444,\"#bd3786\"],[0.5555555555555556,\"#d8576b\"],[0.6666666666666666,\"#ed7953\"],[0.7777777777777778,\"#fb9f3a\"],[0.8888888888888888,\"#fdca26\"],[1.0,\"#f0f921\"]]}],\"heatmapgl\":[{\"type\":\"heatmapgl\",\"colorbar\":{\"outlinewidth\":0,\"ticks\":\"\"},\"colorscale\":[[0.0,\"#0d0887\"],[0.1111111111111111,\"#46039f\"],[0.2222222222222222,\"#7201a8\"],[0.3333333333333333,\"#9c179e\"],[0.4444444444444444,\"#bd3786\"],[0.5555555555555556,\"#d8576b\"],[0.6666666666666666,\"#ed7953\"],[0.7777777777777778,\"#fb9f3a\"],[0.8888888888888888,\"#fdca26\"],[1.0,\"#f0f921\"]]}],\"contourcarpet\":[{\"type\":\"contourcarpet\",\"colorbar\":{\"outlinewidth\":0,\"ticks\":\"\"}}],\"contour\":[{\"type\":\"contour\",\"colorbar\":{\"outlinewidth\":0,\"ticks\":\"\"},\"colorscale\":[[0.0,\"#0d0887\"],[0.1111111111111111,\"#46039f\"],[0.2222222222222222,\"#7201a8\"],[0.3333333333333333,\"#9c179e\"],[0.4444444444444444,\"#bd3786\"],[0.5555555555555556,\"#d8576b\"],[0.6666666666666666,\"#ed7953\"],[0.7777777777777778,\"#fb9f3a\"],[0.8888888888888888,\"#fdca26\"],[1.0,\"#f0f921\"]]}],\"surface\":[{\"type\":\"surface\",\"colorbar\":{\"outlinewidth\":0,\"ticks\":\"\"},\"colorscale\":[[0.0,\"#0d0887\"],[0.1111111111111111,\"#46039f\"],[0.2222222222222222,\"#7201a8\"],[0.3333333333333333,\"#9c179e\"],[0.4444444444444444,\"#bd3786\"],[0.5555555555555556,\"#d8576b\"],[0.6666666666666666,\"#ed7953\"],[0.7777777777777778,\"#fb9f3a\"],[0.8888888888888888,\"#fdca26\"],[1.0,\"#f0f921\"]]}],\"mesh3d\":[{\"type\":\"mesh3d\",\"colorbar\":{\"outlinewidth\":0,\"ticks\":\"\"}}],\"scatter\":[{\"fillpattern\":{\"fillmode\":\"overlay\",\"size\":10,\"solidity\":0.2},\"type\":\"scatter\"}],\"parcoords\":[{\"type\":\"parcoords\",\"line\":{\"colorbar\":{\"outlinewidth\":0,\"ticks\":\"\"}}}],\"scatterpolargl\":[{\"type\":\"scatterpolargl\",\"marker\":{\"colorbar\":{\"outlinewidth\":0,\"ticks\":\"\"}}}],\"bar\":[{\"error_x\":{\"color\":\"#2a3f5f\"},\"error_y\":{\"color\":\"#2a3f5f\"},\"marker\":{\"line\":{\"color\":\"#E5ECF6\",\"width\":0.5},\"pattern\":{\"fillmode\":\"overlay\",\"size\":10,\"solidity\":0.2}},\"type\":\"bar\"}],\"scattergeo\":[{\"type\":\"scattergeo\",\"marker\":{\"colorbar\":{\"outlinewidth\":0,\"ticks\":\"\"}}}],\"scatterpolar\":[{\"type\":\"scatterpolar\",\"marker\":{\"colorbar\":{\"outlinewidth\":0,\"ticks\":\"\"}}}],\"histogram\":[{\"marker\":{\"pattern\":{\"fillmode\":\"overlay\",\"size\":10,\"solidity\":0.2}},\"type\":\"histogram\"}],\"scattergl\":[{\"type\":\"scattergl\",\"marker\":{\"colorbar\":{\"outlinewidth\":0,\"ticks\":\"\"}}}],\"scatter3d\":[{\"type\":\"scatter3d\",\"line\":{\"colorbar\":{\"outlinewidth\":0,\"ticks\":\"\"}},\"marker\":{\"colorbar\":{\"outlinewidth\":0,\"ticks\":\"\"}}}],\"scattermapbox\":[{\"type\":\"scattermapbox\",\"marker\":{\"colorbar\":{\"outlinewidth\":0,\"ticks\":\"\"}}}],\"scatterternary\":[{\"type\":\"scatterternary\",\"marker\":{\"colorbar\":{\"outlinewidth\":0,\"ticks\":\"\"}}}],\"scattercarpet\":[{\"type\":\"scattercarpet\",\"marker\":{\"colorbar\":{\"outlinewidth\":0,\"ticks\":\"\"}}}],\"carpet\":[{\"aaxis\":{\"endlinecolor\":\"#2a3f5f\",\"gridcolor\":\"white\",\"linecolor\":\"white\",\"minorgridcolor\":\"white\",\"startlinecolor\":\"#2a3f5f\"},\"baxis\":{\"endlinecolor\":\"#2a3f5f\",\"gridcolor\":\"white\",\"linecolor\":\"white\",\"minorgridcolor\":\"white\",\"startlinecolor\":\"#2a3f5f\"},\"type\":\"carpet\"}],\"table\":[{\"cells\":{\"fill\":{\"color\":\"#EBF0F8\"},\"line\":{\"color\":\"white\"}},\"header\":{\"fill\":{\"color\":\"#C8D4E3\"},\"line\":{\"color\":\"white\"}},\"type\":\"table\"}],\"barpolar\":[{\"marker\":{\"line\":{\"color\":\"#E5ECF6\",\"width\":0.5},\"pattern\":{\"fillmode\":\"overlay\",\"size\":10,\"solidity\":0.2}},\"type\":\"barpolar\"}],\"pie\":[{\"automargin\":true,\"type\":\"pie\"}]},\"layout\":{\"autotypenumbers\":\"strict\",\"colorway\":[\"#636efa\",\"#EF553B\",\"#00cc96\",\"#ab63fa\",\"#FFA15A\",\"#19d3f3\",\"#FF6692\",\"#B6E880\",\"#FF97FF\",\"#FECB52\"],\"font\":{\"color\":\"#2a3f5f\"},\"hovermode\":\"closest\",\"hoverlabel\":{\"align\":\"left\"},\"paper_bgcolor\":\"white\",\"plot_bgcolor\":\"#E5ECF6\",\"polar\":{\"bgcolor\":\"#E5ECF6\",\"angularaxis\":{\"gridcolor\":\"white\",\"linecolor\":\"white\",\"ticks\":\"\"},\"radialaxis\":{\"gridcolor\":\"white\",\"linecolor\":\"white\",\"ticks\":\"\"}},\"ternary\":{\"bgcolor\":\"#E5ECF6\",\"aaxis\":{\"gridcolor\":\"white\",\"linecolor\":\"white\",\"ticks\":\"\"},\"baxis\":{\"gridcolor\":\"white\",\"linecolor\":\"white\",\"ticks\":\"\"},\"caxis\":{\"gridcolor\":\"white\",\"linecolor\":\"white\",\"ticks\":\"\"}},\"coloraxis\":{\"colorbar\":{\"outlinewidth\":0,\"ticks\":\"\"}},\"colorscale\":{\"sequential\":[[0.0,\"#0d0887\"],[0.1111111111111111,\"#46039f\"],[0.2222222222222222,\"#7201a8\"],[0.3333333333333333,\"#9c179e\"],[0.4444444444444444,\"#bd3786\"],[0.5555555555555556,\"#d8576b\"],[0.6666666666666666,\"#ed7953\"],[0.7777777777777778,\"#fb9f3a\"],[0.8888888888888888,\"#fdca26\"],[1.0,\"#f0f921\"]],\"sequentialminus\":[[0.0,\"#0d0887\"],[0.1111111111111111,\"#46039f\"],[0.2222222222222222,\"#7201a8\"],[0.3333333333333333,\"#9c179e\"],[0.4444444444444444,\"#bd3786\"],[0.5555555555555556,\"#d8576b\"],[0.6666666666666666,\"#ed7953\"],[0.7777777777777778,\"#fb9f3a\"],[0.8888888888888888,\"#fdca26\"],[1.0,\"#f0f921\"]],\"diverging\":[[0,\"#8e0152\"],[0.1,\"#c51b7d\"],[0.2,\"#de77ae\"],[0.3,\"#f1b6da\"],[0.4,\"#fde0ef\"],[0.5,\"#f7f7f7\"],[0.6,\"#e6f5d0\"],[0.7,\"#b8e186\"],[0.8,\"#7fbc41\"],[0.9,\"#4d9221\"],[1,\"#276419\"]]},\"xaxis\":{\"gridcolor\":\"white\",\"linecolor\":\"white\",\"ticks\":\"\",\"title\":{\"standoff\":15},\"zerolinecolor\":\"white\",\"automargin\":true,\"zerolinewidth\":2},\"yaxis\":{\"gridcolor\":\"white\",\"linecolor\":\"white\",\"ticks\":\"\",\"title\":{\"standoff\":15},\"zerolinecolor\":\"white\",\"automargin\":true,\"zerolinewidth\":2},\"scene\":{\"xaxis\":{\"backgroundcolor\":\"#E5ECF6\",\"gridcolor\":\"white\",\"linecolor\":\"white\",\"showbackground\":true,\"ticks\":\"\",\"zerolinecolor\":\"white\",\"gridwidth\":2},\"yaxis\":{\"backgroundcolor\":\"#E5ECF6\",\"gridcolor\":\"white\",\"linecolor\":\"white\",\"showbackground\":true,\"ticks\":\"\",\"zerolinecolor\":\"white\",\"gridwidth\":2},\"zaxis\":{\"backgroundcolor\":\"#E5ECF6\",\"gridcolor\":\"white\",\"linecolor\":\"white\",\"showbackground\":true,\"ticks\":\"\",\"zerolinecolor\":\"white\",\"gridwidth\":2}},\"shapedefaults\":{\"line\":{\"color\":\"#2a3f5f\"}},\"annotationdefaults\":{\"arrowcolor\":\"#2a3f5f\",\"arrowhead\":0,\"arrowwidth\":1},\"geo\":{\"bgcolor\":\"white\",\"landcolor\":\"#E5ECF6\",\"subunitcolor\":\"white\",\"showland\":true,\"showlakes\":true,\"lakecolor\":\"white\"},\"title\":{\"x\":0.05},\"mapbox\":{\"style\":\"light\"}}},\"xaxis\":{\"anchor\":\"y\",\"domain\":[0.0,1.0],\"title\":{\"text\":\"Epoch\"}},\"yaxis\":{\"anchor\":\"x\",\"domain\":[0.0,1.0],\"title\":{\"text\":\"Loss\"}},\"legend\":{\"tracegroupgap\":0},\"title\":{\"text\":\"Training Loss\"}},                        {\"responsive\": true}                    ).then(function(){\n",
              "                            \n",
              "var gd = document.getElementById('b16a5ae5-b932-490d-a6e2-d0494a7ca61b');\n",
              "var x = new MutationObserver(function (mutations, observer) {{\n",
              "        var display = window.getComputedStyle(gd).display;\n",
              "        if (!display || display === 'none') {{\n",
              "            console.log([gd, 'removed!']);\n",
              "            Plotly.purge(gd);\n",
              "            observer.disconnect();\n",
              "        }}\n",
              "}});\n",
              "\n",
              "// Listen for the removal of the full notebook cells\n",
              "var notebookContainer = gd.closest('#notebook-container');\n",
              "if (notebookContainer) {{\n",
              "    x.observe(notebookContainer, {childList: true});\n",
              "}}\n",
              "\n",
              "// Listen for the clearing of the current output cell\n",
              "var outputEl = gd.closest('.output');\n",
              "if (outputEl) {{\n",
              "    x.observe(outputEl, {childList: true});\n",
              "}}\n",
              "\n",
              "                        })                };                            </script>        </div>\n",
              "</body>\n",
              "</html>"
            ]
          },
          "metadata": {}
        },
        {
          "output_type": "display_data",
          "data": {
            "text/html": [
              "<html>\n",
              "<head><meta charset=\"utf-8\" /></head>\n",
              "<body>\n",
              "    <div>            <script src=\"https://cdnjs.cloudflare.com/ajax/libs/mathjax/2.7.5/MathJax.js?config=TeX-AMS-MML_SVG\"></script><script type=\"text/javascript\">if (window.MathJax && window.MathJax.Hub && window.MathJax.Hub.Config) {window.MathJax.Hub.Config({SVG: {font: \"STIX-Web\"}});}</script>                <script type=\"text/javascript\">window.PlotlyConfig = {MathJaxConfig: 'local'};</script>\n",
              "        <script charset=\"utf-8\" src=\"https://cdn.plot.ly/plotly-2.35.2.min.js\"></script>                <div id=\"dc6ed6ce-ed00-40bd-b636-40de2696a75c\" class=\"plotly-graph-div\" style=\"height:525px; width:100%;\"></div>            <script type=\"text/javascript\">                                    window.PLOTLYENV=window.PLOTLYENV || {};                                    if (document.getElementById(\"dc6ed6ce-ed00-40bd-b636-40de2696a75c\")) {                    Plotly.newPlot(                        \"dc6ed6ce-ed00-40bd-b636-40de2696a75c\",                        [{\"hovertemplate\":\"Epoch=%{x}\\u003cbr\\u003eAccuracy=%{y}\\u003cextra\\u003e\\u003c\\u002fextra\\u003e\",\"legendgroup\":\"\",\"line\":{\"color\":\"#636efa\",\"dash\":\"solid\"},\"marker\":{\"symbol\":\"circle\"},\"mode\":\"lines\",\"name\":\"\",\"orientation\":\"v\",\"showlegend\":false,\"x\":[1,2,3,4,5,6,7,8,9,10,11,12,13,14,15,16,17,18,19,20,21,22,23,24,25,26,27,28,29,30,31,32,33,34,35,36,37,38,39,40,41,42,43,44,45,46,47,48,49,50,51,52,53,54,55,56,57,58,59,60,61,62,63,64,65,66,67,68,69,70,71,72,73,74,75,76,77,78,79,80,81,82,83,84,85,86,87,88,89,90,91,92,93,94,95,96,97,98,99,100,101,102,103,104,105,106,107,108,109,110],\"xaxis\":\"x\",\"y\":[0.4743230640888214,0.682539701461792,0.7654528617858887,0.8070961833000183,0.8461251258850098,0.8674136400222778,0.8879551887512207,0.9060690999031067,0.915032684803009,0.9161531329154968,0.9284780621528625,0.9318394064903259,0.9309056997299194,0.9409897327423096,0.9445378184318542,0.9430438876152039,0.9391223192214966,0.953127920627594,0.9518207311630249,0.9510737657546997,0.95686274766922,0.9551820755004883,0.95686274766922,0.9551820755004883,0.9602240920066833,0.9585434198379517,0.9566760063171387,0.9615312814712524,0.9624649882316589,0.9647058844566345,0.9607843160629272,0.9714285731315613,0.9699346423149109,0.9669467806816101,0.9721755385398865,0.9658263325691223,0.9596638679504395,0.9691876769065857,0.9684407114982605,0.9661998152732849,0.9746031761169434,0.9777777791023254,0.9738562107086182,0.97124183177948,0.9796451926231384,0.9764705896377563,0.9734827280044556,0.974976658821106,0.9779645204544067,0.9740429520606995,0.974976658821106,0.9794584512710571,0.9719887971878052,0.9766573309898376,0.9747899174690247,0.9792717099189758,0.9807656407356262,0.9718020558357239,0.9783380031585693,0.9805788993835449,0.9805788993835449,0.9811391234397888,0.9826330542564392,0.9820728302001953,0.9820728302001953,0.9807656407356262,0.9760971069335938,0.9757236242294312,0.9816993474960327,0.9798319339752197,0.9785247445106506,0.9824463129043579,0.981886088848114,0.9865546226501465,0.9807656407356262,0.9852474331855774,0.9820728302001953,0.9813258647918701,0.9843137264251709,0.9858076572418213,0.9880485534667969,0.9863678812980652,0.978151261806488,0.9841269850730896,0.9828197956085205,0.981886088848114,0.9809523820877075,0.9803921580314636,0.987488329410553,0.9828197956085205,0.9848739504814148,0.9876750707626343,0.9798319339752197,0.9846872091293335,0.9858076572418213,0.9891690015792847,0.9833800196647644,0.9802054166793823,0.9886087775230408,0.9878618121147156,0.9807656407356262,0.9803921580314636,0.9783380031585693,0.9858076572418213,0.9809523820877075,0.9865546226501465,0.9833800196647644,0.9902894496917725,0.980018675327301,0.9788982272148132],\"yaxis\":\"y\",\"type\":\"scatter\"},{\"mode\":\"lines\",\"name\":\"Validation Accuracy\",\"x\":[1,2,3,4,5,6,7,8,9,10,11,12,13,14,15,16,17,18,19,20,21,22,23,24,25,26,27,28,29,30,31,32,33,34,35,36,37,38,39,40,41,42,43,44,45,46,47,48,49,50,51,52,53,54,55,56,57,58,59,60,61,62,63,64,65,66,67,68,69,70,71,72,73,74,75,76,77,78,79,80,81,82,83,84,85,86,87,88,89,90,91,92,93,94,95,96,97,98,99,100,101,102,103,104,105,106,107,108,109,110],\"y\":[0.6990291476249695,0.7953696846961975,0.8274831771850586,0.8857356309890747,0.8805078268051147,0.9021657705307007,0.9283047318458557,0.9372665882110596,0.9447348713874817,0.9417475461959839,0.9641523361206055,0.9589245915412903,0.9499626755714417,0.9641523361206055,0.9551904201507568,0.9589245915412903,0.9581777453422546,0.9701269865036011,0.9648991823196411,0.9701269865036011,0.9716206192970276,0.9634055495262146,0.9566841125488281,0.9693801403045654,0.9731142520904541,0.9723674654960632,0.9738610982894897,0.9813293218612671,0.9731142520904541,0.9768484234809875,0.9761015772819519,0.9790888428688049,0.9671396613121033,0.9805825352668762,0.9775952100753784,0.9783420562744141,0.9790888428688049,0.9686332941055298,0.9850634932518005,0.9835698008537292,0.9738610982894897,0.9708737730979919,0.9648991823196411,0.9835698008537292,0.9738610982894897,0.9775952100753784,0.9828230142593384,0.9693801403045654,0.9775952100753784,0.9895444512367249,0.986557126045227,0.9835698008537292,0.986557126045227,0.9813293218612671,0.9828230142593384,0.9873039722442627,0.9858102798461914,0.9880507588386536,0.9887976050376892,0.9768484234809875,0.9843166470527649,0.9828230142593384,0.9798356890678406,0.9850634932518005,0.986557126045227,0.9902912378311157,0.9708737730979919,0.9873039722442627,0.9873039722442627,0.9656460285186768,0.9858102798461914,0.9790888428688049,0.9895444512367249,0.9925317168235779,0.9880507588386536,0.9850634932518005,0.9873039722442627,0.9843166470527649,0.9910380840301514,0.9902912378311157,0.9925317168235779,0.9895444512367249,0.9880507588386536,0.9887976050376892,0.9820761680603027,0.9850634932518005,0.9783420562744141,0.986557126045227,0.991784930229187,0.9962658882141113,0.9790888428688049,0.9970126748085022,0.991784930229187,0.9828230142593384,0.9932785630226135,0.991784930229187,0.991784930229187,0.9910380840301514,0.9925317168235779,0.9895444512367249,0.986557126045227,0.9887976050376892,0.9895444512367249,0.9910380840301514,0.9887976050376892,0.9761015772819519,0.9955190420150757,0.9955190420150757,0.9902912378311157,0.99477219581604],\"type\":\"scatter\"}],                        {\"template\":{\"data\":{\"histogram2dcontour\":[{\"type\":\"histogram2dcontour\",\"colorbar\":{\"outlinewidth\":0,\"ticks\":\"\"},\"colorscale\":[[0.0,\"#0d0887\"],[0.1111111111111111,\"#46039f\"],[0.2222222222222222,\"#7201a8\"],[0.3333333333333333,\"#9c179e\"],[0.4444444444444444,\"#bd3786\"],[0.5555555555555556,\"#d8576b\"],[0.6666666666666666,\"#ed7953\"],[0.7777777777777778,\"#fb9f3a\"],[0.8888888888888888,\"#fdca26\"],[1.0,\"#f0f921\"]]}],\"choropleth\":[{\"type\":\"choropleth\",\"colorbar\":{\"outlinewidth\":0,\"ticks\":\"\"}}],\"histogram2d\":[{\"type\":\"histogram2d\",\"colorbar\":{\"outlinewidth\":0,\"ticks\":\"\"},\"colorscale\":[[0.0,\"#0d0887\"],[0.1111111111111111,\"#46039f\"],[0.2222222222222222,\"#7201a8\"],[0.3333333333333333,\"#9c179e\"],[0.4444444444444444,\"#bd3786\"],[0.5555555555555556,\"#d8576b\"],[0.6666666666666666,\"#ed7953\"],[0.7777777777777778,\"#fb9f3a\"],[0.8888888888888888,\"#fdca26\"],[1.0,\"#f0f921\"]]}],\"heatmap\":[{\"type\":\"heatmap\",\"colorbar\":{\"outlinewidth\":0,\"ticks\":\"\"},\"colorscale\":[[0.0,\"#0d0887\"],[0.1111111111111111,\"#46039f\"],[0.2222222222222222,\"#7201a8\"],[0.3333333333333333,\"#9c179e\"],[0.4444444444444444,\"#bd3786\"],[0.5555555555555556,\"#d8576b\"],[0.6666666666666666,\"#ed7953\"],[0.7777777777777778,\"#fb9f3a\"],[0.8888888888888888,\"#fdca26\"],[1.0,\"#f0f921\"]]}],\"heatmapgl\":[{\"type\":\"heatmapgl\",\"colorbar\":{\"outlinewidth\":0,\"ticks\":\"\"},\"colorscale\":[[0.0,\"#0d0887\"],[0.1111111111111111,\"#46039f\"],[0.2222222222222222,\"#7201a8\"],[0.3333333333333333,\"#9c179e\"],[0.4444444444444444,\"#bd3786\"],[0.5555555555555556,\"#d8576b\"],[0.6666666666666666,\"#ed7953\"],[0.7777777777777778,\"#fb9f3a\"],[0.8888888888888888,\"#fdca26\"],[1.0,\"#f0f921\"]]}],\"contourcarpet\":[{\"type\":\"contourcarpet\",\"colorbar\":{\"outlinewidth\":0,\"ticks\":\"\"}}],\"contour\":[{\"type\":\"contour\",\"colorbar\":{\"outlinewidth\":0,\"ticks\":\"\"},\"colorscale\":[[0.0,\"#0d0887\"],[0.1111111111111111,\"#46039f\"],[0.2222222222222222,\"#7201a8\"],[0.3333333333333333,\"#9c179e\"],[0.4444444444444444,\"#bd3786\"],[0.5555555555555556,\"#d8576b\"],[0.6666666666666666,\"#ed7953\"],[0.7777777777777778,\"#fb9f3a\"],[0.8888888888888888,\"#fdca26\"],[1.0,\"#f0f921\"]]}],\"surface\":[{\"type\":\"surface\",\"colorbar\":{\"outlinewidth\":0,\"ticks\":\"\"},\"colorscale\":[[0.0,\"#0d0887\"],[0.1111111111111111,\"#46039f\"],[0.2222222222222222,\"#7201a8\"],[0.3333333333333333,\"#9c179e\"],[0.4444444444444444,\"#bd3786\"],[0.5555555555555556,\"#d8576b\"],[0.6666666666666666,\"#ed7953\"],[0.7777777777777778,\"#fb9f3a\"],[0.8888888888888888,\"#fdca26\"],[1.0,\"#f0f921\"]]}],\"mesh3d\":[{\"type\":\"mesh3d\",\"colorbar\":{\"outlinewidth\":0,\"ticks\":\"\"}}],\"scatter\":[{\"fillpattern\":{\"fillmode\":\"overlay\",\"size\":10,\"solidity\":0.2},\"type\":\"scatter\"}],\"parcoords\":[{\"type\":\"parcoords\",\"line\":{\"colorbar\":{\"outlinewidth\":0,\"ticks\":\"\"}}}],\"scatterpolargl\":[{\"type\":\"scatterpolargl\",\"marker\":{\"colorbar\":{\"outlinewidth\":0,\"ticks\":\"\"}}}],\"bar\":[{\"error_x\":{\"color\":\"#2a3f5f\"},\"error_y\":{\"color\":\"#2a3f5f\"},\"marker\":{\"line\":{\"color\":\"#E5ECF6\",\"width\":0.5},\"pattern\":{\"fillmode\":\"overlay\",\"size\":10,\"solidity\":0.2}},\"type\":\"bar\"}],\"scattergeo\":[{\"type\":\"scattergeo\",\"marker\":{\"colorbar\":{\"outlinewidth\":0,\"ticks\":\"\"}}}],\"scatterpolar\":[{\"type\":\"scatterpolar\",\"marker\":{\"colorbar\":{\"outlinewidth\":0,\"ticks\":\"\"}}}],\"histogram\":[{\"marker\":{\"pattern\":{\"fillmode\":\"overlay\",\"size\":10,\"solidity\":0.2}},\"type\":\"histogram\"}],\"scattergl\":[{\"type\":\"scattergl\",\"marker\":{\"colorbar\":{\"outlinewidth\":0,\"ticks\":\"\"}}}],\"scatter3d\":[{\"type\":\"scatter3d\",\"line\":{\"colorbar\":{\"outlinewidth\":0,\"ticks\":\"\"}},\"marker\":{\"colorbar\":{\"outlinewidth\":0,\"ticks\":\"\"}}}],\"scattermapbox\":[{\"type\":\"scattermapbox\",\"marker\":{\"colorbar\":{\"outlinewidth\":0,\"ticks\":\"\"}}}],\"scatterternary\":[{\"type\":\"scatterternary\",\"marker\":{\"colorbar\":{\"outlinewidth\":0,\"ticks\":\"\"}}}],\"scattercarpet\":[{\"type\":\"scattercarpet\",\"marker\":{\"colorbar\":{\"outlinewidth\":0,\"ticks\":\"\"}}}],\"carpet\":[{\"aaxis\":{\"endlinecolor\":\"#2a3f5f\",\"gridcolor\":\"white\",\"linecolor\":\"white\",\"minorgridcolor\":\"white\",\"startlinecolor\":\"#2a3f5f\"},\"baxis\":{\"endlinecolor\":\"#2a3f5f\",\"gridcolor\":\"white\",\"linecolor\":\"white\",\"minorgridcolor\":\"white\",\"startlinecolor\":\"#2a3f5f\"},\"type\":\"carpet\"}],\"table\":[{\"cells\":{\"fill\":{\"color\":\"#EBF0F8\"},\"line\":{\"color\":\"white\"}},\"header\":{\"fill\":{\"color\":\"#C8D4E3\"},\"line\":{\"color\":\"white\"}},\"type\":\"table\"}],\"barpolar\":[{\"marker\":{\"line\":{\"color\":\"#E5ECF6\",\"width\":0.5},\"pattern\":{\"fillmode\":\"overlay\",\"size\":10,\"solidity\":0.2}},\"type\":\"barpolar\"}],\"pie\":[{\"automargin\":true,\"type\":\"pie\"}]},\"layout\":{\"autotypenumbers\":\"strict\",\"colorway\":[\"#636efa\",\"#EF553B\",\"#00cc96\",\"#ab63fa\",\"#FFA15A\",\"#19d3f3\",\"#FF6692\",\"#B6E880\",\"#FF97FF\",\"#FECB52\"],\"font\":{\"color\":\"#2a3f5f\"},\"hovermode\":\"closest\",\"hoverlabel\":{\"align\":\"left\"},\"paper_bgcolor\":\"white\",\"plot_bgcolor\":\"#E5ECF6\",\"polar\":{\"bgcolor\":\"#E5ECF6\",\"angularaxis\":{\"gridcolor\":\"white\",\"linecolor\":\"white\",\"ticks\":\"\"},\"radialaxis\":{\"gridcolor\":\"white\",\"linecolor\":\"white\",\"ticks\":\"\"}},\"ternary\":{\"bgcolor\":\"#E5ECF6\",\"aaxis\":{\"gridcolor\":\"white\",\"linecolor\":\"white\",\"ticks\":\"\"},\"baxis\":{\"gridcolor\":\"white\",\"linecolor\":\"white\",\"ticks\":\"\"},\"caxis\":{\"gridcolor\":\"white\",\"linecolor\":\"white\",\"ticks\":\"\"}},\"coloraxis\":{\"colorbar\":{\"outlinewidth\":0,\"ticks\":\"\"}},\"colorscale\":{\"sequential\":[[0.0,\"#0d0887\"],[0.1111111111111111,\"#46039f\"],[0.2222222222222222,\"#7201a8\"],[0.3333333333333333,\"#9c179e\"],[0.4444444444444444,\"#bd3786\"],[0.5555555555555556,\"#d8576b\"],[0.6666666666666666,\"#ed7953\"],[0.7777777777777778,\"#fb9f3a\"],[0.8888888888888888,\"#fdca26\"],[1.0,\"#f0f921\"]],\"sequentialminus\":[[0.0,\"#0d0887\"],[0.1111111111111111,\"#46039f\"],[0.2222222222222222,\"#7201a8\"],[0.3333333333333333,\"#9c179e\"],[0.4444444444444444,\"#bd3786\"],[0.5555555555555556,\"#d8576b\"],[0.6666666666666666,\"#ed7953\"],[0.7777777777777778,\"#fb9f3a\"],[0.8888888888888888,\"#fdca26\"],[1.0,\"#f0f921\"]],\"diverging\":[[0,\"#8e0152\"],[0.1,\"#c51b7d\"],[0.2,\"#de77ae\"],[0.3,\"#f1b6da\"],[0.4,\"#fde0ef\"],[0.5,\"#f7f7f7\"],[0.6,\"#e6f5d0\"],[0.7,\"#b8e186\"],[0.8,\"#7fbc41\"],[0.9,\"#4d9221\"],[1,\"#276419\"]]},\"xaxis\":{\"gridcolor\":\"white\",\"linecolor\":\"white\",\"ticks\":\"\",\"title\":{\"standoff\":15},\"zerolinecolor\":\"white\",\"automargin\":true,\"zerolinewidth\":2},\"yaxis\":{\"gridcolor\":\"white\",\"linecolor\":\"white\",\"ticks\":\"\",\"title\":{\"standoff\":15},\"zerolinecolor\":\"white\",\"automargin\":true,\"zerolinewidth\":2},\"scene\":{\"xaxis\":{\"backgroundcolor\":\"#E5ECF6\",\"gridcolor\":\"white\",\"linecolor\":\"white\",\"showbackground\":true,\"ticks\":\"\",\"zerolinecolor\":\"white\",\"gridwidth\":2},\"yaxis\":{\"backgroundcolor\":\"#E5ECF6\",\"gridcolor\":\"white\",\"linecolor\":\"white\",\"showbackground\":true,\"ticks\":\"\",\"zerolinecolor\":\"white\",\"gridwidth\":2},\"zaxis\":{\"backgroundcolor\":\"#E5ECF6\",\"gridcolor\":\"white\",\"linecolor\":\"white\",\"showbackground\":true,\"ticks\":\"\",\"zerolinecolor\":\"white\",\"gridwidth\":2}},\"shapedefaults\":{\"line\":{\"color\":\"#2a3f5f\"}},\"annotationdefaults\":{\"arrowcolor\":\"#2a3f5f\",\"arrowhead\":0,\"arrowwidth\":1},\"geo\":{\"bgcolor\":\"white\",\"landcolor\":\"#E5ECF6\",\"subunitcolor\":\"white\",\"showland\":true,\"showlakes\":true,\"lakecolor\":\"white\"},\"title\":{\"x\":0.05},\"mapbox\":{\"style\":\"light\"}}},\"xaxis\":{\"anchor\":\"y\",\"domain\":[0.0,1.0],\"title\":{\"text\":\"Epoch\"}},\"yaxis\":{\"anchor\":\"x\",\"domain\":[0.0,1.0],\"title\":{\"text\":\"Accuracy\"}},\"legend\":{\"tracegroupgap\":0},\"title\":{\"text\":\"Training Accuracy\"}},                        {\"responsive\": true}                    ).then(function(){\n",
              "                            \n",
              "var gd = document.getElementById('dc6ed6ce-ed00-40bd-b636-40de2696a75c');\n",
              "var x = new MutationObserver(function (mutations, observer) {{\n",
              "        var display = window.getComputedStyle(gd).display;\n",
              "        if (!display || display === 'none') {{\n",
              "            console.log([gd, 'removed!']);\n",
              "            Plotly.purge(gd);\n",
              "            observer.disconnect();\n",
              "        }}\n",
              "}});\n",
              "\n",
              "// Listen for the removal of the full notebook cells\n",
              "var notebookContainer = gd.closest('#notebook-container');\n",
              "if (notebookContainer) {{\n",
              "    x.observe(notebookContainer, {childList: true});\n",
              "}}\n",
              "\n",
              "// Listen for the clearing of the current output cell\n",
              "var outputEl = gd.closest('.output');\n",
              "if (outputEl) {{\n",
              "    x.observe(outputEl, {childList: true});\n",
              "}}\n",
              "\n",
              "                        })                };                            </script>        </div>\n",
              "</body>\n",
              "</html>"
            ]
          },
          "metadata": {}
        }
      ]
    },
    {
      "cell_type": "code",
      "source": [
        "import matplotlib.pyplot as plt\n",
        "\n",
        "# Extract training history\n",
        "epochs = range(1, len(model_history.history['loss']) + 1)\n",
        "train_loss = model_history.history['loss']\n",
        "val_loss = model_history.history['val_loss']\n",
        "train_acc = model_history.history['accuracy']\n",
        "val_acc = model_history.history['val_accuracy']\n",
        "\n",
        "# Plot Loss\n",
        "plt.figure(figsize=(10, 5))\n",
        "plt.plot(epochs, train_loss, label='Training Loss', marker='o', markersize=3, markeredgewidth=0.5)\n",
        "plt.plot(epochs, val_loss, label='Validation Loss', marker='o', markersize=3, markeredgewidth=0.5)\n",
        "plt.xlabel('Epochs')\n",
        "plt.ylabel('Loss')\n",
        "plt.title('Training & Validation Loss')\n",
        "plt.legend()\n",
        "plt.grid(axis='x', linewidth=0.5)  # Show only vertical grid lines\n",
        "plt.show()\n",
        "\n",
        "# Plot Accuracy\n",
        "plt.figure(figsize=(10, 5))\n",
        "plt.plot(epochs, train_acc, label='Training Accuracy', marker='o', markersize=3, markeredgewidth=0.5)\n",
        "plt.plot(epochs, val_acc, label='Validation Accuracy', marker='o', markersize=3, markeredgewidth=0.5)\n",
        "plt.xlabel('Epochs')\n",
        "plt.ylabel('Accuracy')\n",
        "plt.title('Training & Validation Accuracy')\n",
        "plt.legend()\n",
        "plt.grid(axis='x', linewidth=0.5)  # Show only vertical grid lines\n",
        "plt.show()\n"
      ],
      "metadata": {
        "colab": {
          "base_uri": "https://localhost:8080/",
          "height": 957
        },
        "id": "4EK3Y7liLvbn",
        "outputId": "2e2d0d9b-6a09-497f-cd53-44c1093dfb69"
      },
      "execution_count": 100,
      "outputs": [
        {
          "output_type": "display_data",
          "data": {
            "text/plain": [
              "<Figure size 1000x500 with 1 Axes>"
            ],
            "image/png": "[encoded data removed]"
          },
          "metadata": {}
        },
        {
          "output_type": "display_data",
          "data": {
            "text/plain": [
              "<Figure size 1000x500 with 1 Axes>"
            ],
            "image/png": "[encoded data removed]"
          },
          "metadata": {}
        }
      ]
    },
    {
      "cell_type": "code",
      "execution_count": 80,
      "metadata": {
        "id": "RBkmDeUW9hE4"
      },
      "outputs": [],
      "source": [
        "# Loading the saved model\n",
        "model = tf.keras.models.load_model(model_save_path)"
      ]
    },
    {
      "cell_type": "code",
      "execution_count": 81,
      "metadata": {
        "colab": {
          "base_uri": "https://localhost:8080/"
        },
        "id": "tFz9Tb0I9hE4",
        "outputId": "d9dc9605-66e0-450f-b2c1-6f3ef41cdc17"
      },
      "outputs": [
        {
          "output_type": "stream",
          "name": "stdout",
          "text": [
            "1/1 [==============================] - 0s 60ms/step\n",
            "[2.7669053e-06 3.5900325e-03 1.4963111e-05 2.3821912e-04 2.1894010e-08\n",
            " 4.0692069e-07 4.8118510e-04 6.1222310e-03 2.4508606e-06 4.9683467e-06\n",
            " 9.8953027e-01 1.2499645e-05]\n",
            "10\n"
          ]
        }
      ],
      "source": [
        "# Inference test\n",
        "predict_result = model.predict(np.array([X_test[0]]))\n",
        "print(np.squeeze(predict_result))\n",
        "print(np.argmax(np.squeeze(predict_result)))"
      ]
    },
    {
      "cell_type": "markdown",
      "metadata": {
        "id": "S3U4yNWx9hE4"
      },
      "source": [
        "# Confusion matrix"
      ]
    },
    {
      "cell_type": "code",
      "source": [
        "import numpy as np\n",
        "import pandas as pd\n",
        "import seaborn as sns\n",
        "import matplotlib.pyplot as plt\n",
        "from sklearn.metrics import confusion_matrix, classification_report\n",
        "\n",
        "# Define class labels\n",
        "class_labels = ['afraid', 'agree', 'assistance', 'bad', 'college', 'pain', 'skin',\n",
        "                'small', 'specific', 'warn', 'work', 'you']\n",
        "\n",
        "def print_confusion_matrix(y_true, y_pred, report=True):\n",
        "    \"\"\"Plot Confusion Matrix & Print Classification Report\"\"\"\n",
        "\n",
        "    # Debugging prints\n",
        "    print(\"Unique values in y_true:\", np.unique(y_true))\n",
        "    print(\"Unique values in y_pred:\", np.unique(y_pred))\n",
        "\n",
        "    # Ensure y_true and y_pred contain class names, not indices\n",
        "    if isinstance(y_true[0], int) or isinstance(y_true[0], np.integer):\n",
        "        print(\"Converting indices to class labels...\")\n",
        "        try:\n",
        "            y_true = [class_labels[i] for i in y_true]\n",
        "            y_pred = [class_labels[i] for i in y_pred]\n",
        "        except IndexError as e:\n",
        "            print(\"IndexError:\", e)\n",
        "            print(\"Check if y_test or y_pred has invalid indices.\")\n",
        "\n",
        "    # Compute Confusion Matrix\n",
        "    cmx_data = confusion_matrix(y_true, y_pred, labels=class_labels)\n",
        "    df_cmx = pd.DataFrame(cmx_data, index=class_labels, columns=class_labels)\n",
        "\n",
        "    # Plot Confusion Matrix\n",
        "    fig, ax = plt.subplots(figsize=(8, 6))\n",
        "    sns.heatmap(df_cmx, annot=True, fmt='g', cmap=\"YlGnBu\", square=False)  # Changed cmap to 'Blues'\n",
        "    ax.set_ylim(len(class_labels), 0)\n",
        "    plt.xlabel(\"Predicted Label\")\n",
        "    plt.ylabel(\"True Label\")\n",
        "    plt.title(\"Confusion Matrix\")\n",
        "    plt.show()\n",
        "\n",
        "    # Print Classification Report\n",
        "    if report:\n",
        "        print(\"\\nClassification Report\")\n",
        "        print(classification_report(y_true, y_pred, target_names=class_labels))\n",
        "\n",
        "# Model Predictions\n",
        "Y_pred = model.predict(X_test)\n",
        "y_pred = np.argmax(Y_pred, axis=1)  # Convert probabilities to class indices\n",
        "\n",
        "# Convert y_test to numpy array if it's not already\n",
        "y_test = np.array(y_test)\n",
        "\n",
        "# Debugging prints\n",
        "print(\"y_test first few values:\", y_test[:10])\n",
        "print(\"y_pred first few values:\", y_pred[:10])\n",
        "\n",
        "# Call the function\n",
        "print_confusion_matrix(y_test, y_pred)\n"
      ],
      "metadata": {
        "colab": {
          "base_uri": "https://localhost:8080/",
          "height": 1000
        },
        "id": "3lbV2-7Nej_n",
        "outputId": "c728a20c-606f-4b70-c2ce-e8809dd5471a"
      },
      "execution_count": 93,
      "outputs": [
        {
          "output_type": "stream",
          "name": "stdout",
          "text": [
            "42/42 [==============================] - 0s 2ms/step\n",
            "y_test first few values: [10  1 11 10 11  6  6  6  8  9]\n",
            "y_pred first few values: [10  1 11 10 11  6  6  6  8  9]\n",
            "Unique values in y_true: [ 0  1  2  3  4  5  6  7  8  9 10 11]\n",
            "Unique values in y_pred: [ 0  1  2  3  4  5  6  7  8  9 10 11]\n",
            "Converting indices to class labels...\n"
          ]
        },
        {
          "output_type": "display_data",
          "data": {
            "text/plain": [
              "<Figure size 800x600 with 2 Axes>"
            ],
            "image/png": "[encoded data removed]"
          },
          "metadata": {}
        },
        {
          "output_type": "stream",
          "name": "stdout",
          "text": [
            "\n",
            "Classification Report\n",
            "              precision    recall  f1-score   support\n",
            "\n",
            "      afraid       0.98      1.00      0.99       184\n",
            "       agree       0.99      1.00      1.00       141\n",
            "  assistance       1.00      0.97      0.98       123\n",
            "         bad       1.00      1.00      1.00        83\n",
            "     college       1.00      1.00      1.00        94\n",
            "        pain       1.00      1.00      1.00        79\n",
            "        skin       1.00      1.00      1.00       139\n",
            "       small       1.00      0.99      0.99        74\n",
            "    specific       1.00      1.00      1.00        90\n",
            "        warn       1.00      1.00      1.00        92\n",
            "        work       1.00      1.00      1.00       154\n",
            "         you       1.00      1.00      1.00        86\n",
            "\n",
            "    accuracy                           1.00      1339\n",
            "   macro avg       1.00      1.00      1.00      1339\n",
            "weighted avg       1.00      1.00      1.00      1339\n",
            "\n"
          ]
        }
      ]
    },
    {
      "cell_type": "code",
      "execution_count": 86,
      "metadata": {
        "colab": {
          "base_uri": "https://localhost:8080/",
          "height": 886
        },
        "id": "AP1V6SCk9hE5",
        "outputId": "9506ff63-abcd-4c4a-f5a8-c8dab017f8e8"
      },
      "outputs": [
        {
          "output_type": "stream",
          "name": "stdout",
          "text": [
            "42/42 [==============================] - 0s 2ms/step\n"
          ]
        },
        {
          "output_type": "display_data",
          "data": {
            "text/plain": [
              "<Figure size 700x600 with 2 Axes>"
            ],
            "image/png": "[encoded data removed]"
          },
          "metadata": {}
        },
        {
          "output_type": "stream",
          "name": "stdout",
          "text": [
            "Classification Report\n",
            "              precision    recall  f1-score   support\n",
            "\n",
            "           0       0.98      1.00      0.99       184\n",
            "           1       0.99      1.00      1.00       141\n",
            "           2       1.00      0.97      0.98       123\n",
            "           3       1.00      1.00      1.00        83\n",
            "           4       1.00      1.00      1.00        94\n",
            "           5       1.00      1.00      1.00        79\n",
            "           6       1.00      1.00      1.00       139\n",
            "           7       1.00      0.99      0.99        74\n",
            "           8       1.00      1.00      1.00        90\n",
            "           9       1.00      1.00      1.00        92\n",
            "          10       1.00      1.00      1.00       154\n",
            "          11       1.00      1.00      1.00        86\n",
            "\n",
            "    accuracy                           1.00      1339\n",
            "   macro avg       1.00      1.00      1.00      1339\n",
            "weighted avg       1.00      1.00      1.00      1339\n",
            "\n"
          ]
        }
      ],
      "source": [
        "import pandas as pd\n",
        "import seaborn as sns\n",
        "import matplotlib.pyplot as plt\n",
        "from sklearn.metrics import confusion_matrix, classification_report\n",
        "\n",
        "def print_confusion_matrix(y_true, y_pred, report=True):\n",
        "    #labels = sorted(list(set(y_true)))\n",
        "    labels = ['afraid', 'agree', 'assistance', 'bad', 'college', 'pain', 'skin',\n",
        "           'small', 'specific', 'warn', 'work', 'you']\n",
        "    cmx_data = confusion_matrix(y_true, y_pred, labels=labels)\n",
        "\n",
        "    df_cmx = pd.DataFrame(cmx_data, index=labels, columns=labels)\n",
        "\n",
        "    fig, ax = plt.subplots(figsize=(7, 6))\n",
        "    sns.heatmap(df_cmx, annot=True, fmt='g' ,square=False)\n",
        "    ax.set_ylim(len(set(y_true)), 0)\n",
        "    plt.show()\n",
        "\n",
        "    if report:\n",
        "        print('Classification Report')\n",
        "        print(classification_report(y_test, y_pred))\n",
        "\n",
        "Y_pred = model.predict(X_test)\n",
        "y_pred = np.argmax(Y_pred, axis=1)\n",
        "\n",
        "print_confusion_matrix(y_test, y_pred)"
      ]
    },
    {
      "cell_type": "code",
      "source": [
        "import plotly.graph_objects as go\n",
        "\n",
        "# Class labels\n",
        "classes = ['afraid', 'agree', 'assistance', 'bad', 'college', 'pain', 'skin',\n",
        "           'small', 'specific', 'warn', 'work', 'you']\n",
        "\n",
        "# Scores from Classification Report\n",
        "precision = [0.98, 0.99, 1.00, 1.00, 1.00, 1.00, 1.00, 1.00, 1.00, 1.00, 1.00, 1.00]\n",
        "recall = [1.00, 1.00, 0.97, 1.00, 1.00, 1.00, 1.00, 0.99, 1.00, 1.00, 1.00, 1.00]\n",
        "f1_score = [0.99, 1.00, 0.98, 1.00, 1.00, 1.00, 1.00, 0.99, 1.00, 1.00, 1.00, 1.00]\n",
        "\n",
        "# Define new color scheme\n",
        "colors = {\n",
        "    \"Precision\": \"#636EFA\",  # Blue\n",
        "    \"Recall\": \"#EF553B\",     # Red-Orange\n",
        "    \"F1-Score\": \"#00CC96\"    # Green\n",
        "}\n",
        "\n",
        "# Create interactive bar chart\n",
        "fig = go.Figure()\n",
        "\n",
        "fig.add_trace(go.Bar(x=classes, y=precision, name='Precision', marker_color=colors[\"Precision\"]))\n",
        "fig.add_trace(go.Bar(x=classes, y=recall, name='Recall', marker_color=colors[\"Recall\"]))\n",
        "fig.add_trace(go.Bar(x=classes, y=f1_score, name='F1-Score', marker_color=colors[\"F1-Score\"]))\n",
        "\n",
        "# Layout settings\n",
        "fig.update_layout(\n",
        "    title=\"Class-wise Performance (Interactive)\",\n",
        "    xaxis_title=\"Class Labels\",\n",
        "    yaxis_title=\"Score\",\n",
        "    barmode='group',  # Groups bars instead of stacking\n",
        "    legend=dict(title=\"Click to Highlight\"),  # Interactive legend\n",
        "    template=\"plotly_white\",  # Light theme (can be changed to \"plotly_dark\")\n",
        ")\n",
        "\n",
        "# Show interactive plot\n",
        "fig.show()\n",
        "\n",
        "fig.write_html(\"/content/drive/MyDrive/Sign_speak_gesture_recognition/interactive_plot.html\")\n"
      ],
      "metadata": {
        "colab": {
          "base_uri": "https://localhost:8080/",
          "height": 542
        },
        "id": "xB04LeSRU0rA",
        "outputId": "16ded4f4-c40d-46e4-bb7d-94c7d12b3b40"
      },
      "execution_count": 78,
      "outputs": [
        {
          "output_type": "display_data",
          "data": {
            "text/html": [
              "<html>\n",
              "<head><meta charset=\"utf-8\" /></head>\n",
              "<body>\n",
              "    <div>            <script src=\"https://cdnjs.cloudflare.com/ajax/libs/mathjax/2.7.5/MathJax.js?config=TeX-AMS-MML_SVG\"></script><script type=\"text/javascript\">if (window.MathJax && window.MathJax.Hub && window.MathJax.Hub.Config) {window.MathJax.Hub.Config({SVG: {font: \"STIX-Web\"}});}</script>                <script type=\"text/javascript\">window.PlotlyConfig = {MathJaxConfig: 'local'};</script>\n",
              "        <script charset=\"utf-8\" src=\"https://cdn.plot.ly/plotly-2.35.2.min.js\"></script>                <div id=\"ec9ad87d-97ac-4f80-be16-cb86798f9f6f\" class=\"plotly-graph-div\" style=\"height:525px; width:100%;\"></div>            <script type=\"text/javascript\">                                    window.PLOTLYENV=window.PLOTLYENV || {};                                    if (document.getElementById(\"ec9ad87d-97ac-4f80-be16-cb86798f9f6f\")) {                    Plotly.newPlot(                        \"ec9ad87d-97ac-4f80-be16-cb86798f9f6f\",                        [{\"marker\":{\"color\":\"#636EFA\"},\"name\":\"Precision\",\"x\":[\"afraid\",\"agree\",\"assistance\",\"bad\",\"college\",\"pain\",\"skin\",\"small\",\"specific\",\"warn\",\"work\",\"you\"],\"y\":[0.98,0.99,1.0,1.0,1.0,1.0,1.0,1.0,1.0,1.0,1.0,1.0],\"type\":\"bar\"},{\"marker\":{\"color\":\"#EF553B\"},\"name\":\"Recall\",\"x\":[\"afraid\",\"agree\",\"assistance\",\"bad\",\"college\",\"pain\",\"skin\",\"small\",\"specific\",\"warn\",\"work\",\"you\"],\"y\":[1.0,1.0,0.97,1.0,1.0,1.0,1.0,0.99,1.0,1.0,1.0,1.0],\"type\":\"bar\"},{\"marker\":{\"color\":\"#00CC96\"},\"name\":\"F1-Score\",\"x\":[\"afraid\",\"agree\",\"assistance\",\"bad\",\"college\",\"pain\",\"skin\",\"small\",\"specific\",\"warn\",\"work\",\"you\"],\"y\":[0.99,1.0,0.98,1.0,1.0,1.0,1.0,0.99,1.0,1.0,1.0,1.0],\"type\":\"bar\"}],                        {\"template\":{\"data\":{\"barpolar\":[{\"marker\":{\"line\":{\"color\":\"white\",\"width\":0.5},\"pattern\":{\"fillmode\":\"overlay\",\"size\":10,\"solidity\":0.2}},\"type\":\"barpolar\"}],\"bar\":[{\"error_x\":{\"color\":\"#2a3f5f\"},\"error_y\":{\"color\":\"#2a3f5f\"},\"marker\":{\"line\":{\"color\":\"white\",\"width\":0.5},\"pattern\":{\"fillmode\":\"overlay\",\"size\":10,\"solidity\":0.2}},\"type\":\"bar\"}],\"carpet\":[{\"aaxis\":{\"endlinecolor\":\"#2a3f5f\",\"gridcolor\":\"#C8D4E3\",\"linecolor\":\"#C8D4E3\",\"minorgridcolor\":\"#C8D4E3\",\"startlinecolor\":\"#2a3f5f\"},\"baxis\":{\"endlinecolor\":\"#2a3f5f\",\"gridcolor\":\"#C8D4E3\",\"linecolor\":\"#C8D4E3\",\"minorgridcolor\":\"#C8D4E3\",\"startlinecolor\":\"#2a3f5f\"},\"type\":\"carpet\"}],\"choropleth\":[{\"colorbar\":{\"outlinewidth\":0,\"ticks\":\"\"},\"type\":\"choropleth\"}],\"contourcarpet\":[{\"colorbar\":{\"outlinewidth\":0,\"ticks\":\"\"},\"type\":\"contourcarpet\"}],\"contour\":[{\"colorbar\":{\"outlinewidth\":0,\"ticks\":\"\"},\"colorscale\":[[0.0,\"#0d0887\"],[0.1111111111111111,\"#46039f\"],[0.2222222222222222,\"#7201a8\"],[0.3333333333333333,\"#9c179e\"],[0.4444444444444444,\"#bd3786\"],[0.5555555555555556,\"#d8576b\"],[0.6666666666666666,\"#ed7953\"],[0.7777777777777778,\"#fb9f3a\"],[0.8888888888888888,\"#fdca26\"],[1.0,\"#f0f921\"]],\"type\":\"contour\"}],\"heatmapgl\":[{\"colorbar\":{\"outlinewidth\":0,\"ticks\":\"\"},\"colorscale\":[[0.0,\"#0d0887\"],[0.1111111111111111,\"#46039f\"],[0.2222222222222222,\"#7201a8\"],[0.3333333333333333,\"#9c179e\"],[0.4444444444444444,\"#bd3786\"],[0.5555555555555556,\"#d8576b\"],[0.6666666666666666,\"#ed7953\"],[0.7777777777777778,\"#fb9f3a\"],[0.8888888888888888,\"#fdca26\"],[1.0,\"#f0f921\"]],\"type\":\"heatmapgl\"}],\"heatmap\":[{\"colorbar\":{\"outlinewidth\":0,\"ticks\":\"\"},\"colorscale\":[[0.0,\"#0d0887\"],[0.1111111111111111,\"#46039f\"],[0.2222222222222222,\"#7201a8\"],[0.3333333333333333,\"#9c179e\"],[0.4444444444444444,\"#bd3786\"],[0.5555555555555556,\"#d8576b\"],[0.6666666666666666,\"#ed7953\"],[0.7777777777777778,\"#fb9f3a\"],[0.8888888888888888,\"#fdca26\"],[1.0,\"#f0f921\"]],\"type\":\"heatmap\"}],\"histogram2dcontour\":[{\"colorbar\":{\"outlinewidth\":0,\"ticks\":\"\"},\"colorscale\":[[0.0,\"#0d0887\"],[0.1111111111111111,\"#46039f\"],[0.2222222222222222,\"#7201a8\"],[0.3333333333333333,\"#9c179e\"],[0.4444444444444444,\"#bd3786\"],[0.5555555555555556,\"#d8576b\"],[0.6666666666666666,\"#ed7953\"],[0.7777777777777778,\"#fb9f3a\"],[0.8888888888888888,\"#fdca26\"],[1.0,\"#f0f921\"]],\"type\":\"histogram2dcontour\"}],\"histogram2d\":[{\"colorbar\":{\"outlinewidth\":0,\"ticks\":\"\"},\"colorscale\":[[0.0,\"#0d0887\"],[0.1111111111111111,\"#46039f\"],[0.2222222222222222,\"#7201a8\"],[0.3333333333333333,\"#9c179e\"],[0.4444444444444444,\"#bd3786\"],[0.5555555555555556,\"#d8576b\"],[0.6666666666666666,\"#ed7953\"],[0.7777777777777778,\"#fb9f3a\"],[0.8888888888888888,\"#fdca26\"],[1.0,\"#f0f921\"]],\"type\":\"histogram2d\"}],\"histogram\":[{\"marker\":{\"pattern\":{\"fillmode\":\"overlay\",\"size\":10,\"solidity\":0.2}},\"type\":\"histogram\"}],\"mesh3d\":[{\"colorbar\":{\"outlinewidth\":0,\"ticks\":\"\"},\"type\":\"mesh3d\"}],\"parcoords\":[{\"line\":{\"colorbar\":{\"outlinewidth\":0,\"ticks\":\"\"}},\"type\":\"parcoords\"}],\"pie\":[{\"automargin\":true,\"type\":\"pie\"}],\"scatter3d\":[{\"line\":{\"colorbar\":{\"outlinewidth\":0,\"ticks\":\"\"}},\"marker\":{\"colorbar\":{\"outlinewidth\":0,\"ticks\":\"\"}},\"type\":\"scatter3d\"}],\"scattercarpet\":[{\"marker\":{\"colorbar\":{\"outlinewidth\":0,\"ticks\":\"\"}},\"type\":\"scattercarpet\"}],\"scattergeo\":[{\"marker\":{\"colorbar\":{\"outlinewidth\":0,\"ticks\":\"\"}},\"type\":\"scattergeo\"}],\"scattergl\":[{\"marker\":{\"colorbar\":{\"outlinewidth\":0,\"ticks\":\"\"}},\"type\":\"scattergl\"}],\"scattermapbox\":[{\"marker\":{\"colorbar\":{\"outlinewidth\":0,\"ticks\":\"\"}},\"type\":\"scattermapbox\"}],\"scatterpolargl\":[{\"marker\":{\"colorbar\":{\"outlinewidth\":0,\"ticks\":\"\"}},\"type\":\"scatterpolargl\"}],\"scatterpolar\":[{\"marker\":{\"colorbar\":{\"outlinewidth\":0,\"ticks\":\"\"}},\"type\":\"scatterpolar\"}],\"scatter\":[{\"fillpattern\":{\"fillmode\":\"overlay\",\"size\":10,\"solidity\":0.2},\"type\":\"scatter\"}],\"scatterternary\":[{\"marker\":{\"colorbar\":{\"outlinewidth\":0,\"ticks\":\"\"}},\"type\":\"scatterternary\"}],\"surface\":[{\"colorbar\":{\"outlinewidth\":0,\"ticks\":\"\"},\"colorscale\":[[0.0,\"#0d0887\"],[0.1111111111111111,\"#46039f\"],[0.2222222222222222,\"#7201a8\"],[0.3333333333333333,\"#9c179e\"],[0.4444444444444444,\"#bd3786\"],[0.5555555555555556,\"#d8576b\"],[0.6666666666666666,\"#ed7953\"],[0.7777777777777778,\"#fb9f3a\"],[0.8888888888888888,\"#fdca26\"],[1.0,\"#f0f921\"]],\"type\":\"surface\"}],\"table\":[{\"cells\":{\"fill\":{\"color\":\"#EBF0F8\"},\"line\":{\"color\":\"white\"}},\"header\":{\"fill\":{\"color\":\"#C8D4E3\"},\"line\":{\"color\":\"white\"}},\"type\":\"table\"}]},\"layout\":{\"annotationdefaults\":{\"arrowcolor\":\"#2a3f5f\",\"arrowhead\":0,\"arrowwidth\":1},\"autotypenumbers\":\"strict\",\"coloraxis\":{\"colorbar\":{\"outlinewidth\":0,\"ticks\":\"\"}},\"colorscale\":{\"diverging\":[[0,\"#8e0152\"],[0.1,\"#c51b7d\"],[0.2,\"#de77ae\"],[0.3,\"#f1b6da\"],[0.4,\"#fde0ef\"],[0.5,\"#f7f7f7\"],[0.6,\"#e6f5d0\"],[0.7,\"#b8e186\"],[0.8,\"#7fbc41\"],[0.9,\"#4d9221\"],[1,\"#276419\"]],\"sequential\":[[0.0,\"#0d0887\"],[0.1111111111111111,\"#46039f\"],[0.2222222222222222,\"#7201a8\"],[0.3333333333333333,\"#9c179e\"],[0.4444444444444444,\"#bd3786\"],[0.5555555555555556,\"#d8576b\"],[0.6666666666666666,\"#ed7953\"],[0.7777777777777778,\"#fb9f3a\"],[0.8888888888888888,\"#fdca26\"],[1.0,\"#f0f921\"]],\"sequentialminus\":[[0.0,\"#0d0887\"],[0.1111111111111111,\"#46039f\"],[0.2222222222222222,\"#7201a8\"],[0.3333333333333333,\"#9c179e\"],[0.4444444444444444,\"#bd3786\"],[0.5555555555555556,\"#d8576b\"],[0.6666666666666666,\"#ed7953\"],[0.7777777777777778,\"#fb9f3a\"],[0.8888888888888888,\"#fdca26\"],[1.0,\"#f0f921\"]]},\"colorway\":[\"#636efa\",\"#EF553B\",\"#00cc96\",\"#ab63fa\",\"#FFA15A\",\"#19d3f3\",\"#FF6692\",\"#B6E880\",\"#FF97FF\",\"#FECB52\"],\"font\":{\"color\":\"#2a3f5f\"},\"geo\":{\"bgcolor\":\"white\",\"lakecolor\":\"white\",\"landcolor\":\"white\",\"showlakes\":true,\"showland\":true,\"subunitcolor\":\"#C8D4E3\"},\"hoverlabel\":{\"align\":\"left\"},\"hovermode\":\"closest\",\"mapbox\":{\"style\":\"light\"},\"paper_bgcolor\":\"white\",\"plot_bgcolor\":\"white\",\"polar\":{\"angularaxis\":{\"gridcolor\":\"#EBF0F8\",\"linecolor\":\"#EBF0F8\",\"ticks\":\"\"},\"bgcolor\":\"white\",\"radialaxis\":{\"gridcolor\":\"#EBF0F8\",\"linecolor\":\"#EBF0F8\",\"ticks\":\"\"}},\"scene\":{\"xaxis\":{\"backgroundcolor\":\"white\",\"gridcolor\":\"#DFE8F3\",\"gridwidth\":2,\"linecolor\":\"#EBF0F8\",\"showbackground\":true,\"ticks\":\"\",\"zerolinecolor\":\"#EBF0F8\"},\"yaxis\":{\"backgroundcolor\":\"white\",\"gridcolor\":\"#DFE8F3\",\"gridwidth\":2,\"linecolor\":\"#EBF0F8\",\"showbackground\":true,\"ticks\":\"\",\"zerolinecolor\":\"#EBF0F8\"},\"zaxis\":{\"backgroundcolor\":\"white\",\"gridcolor\":\"#DFE8F3\",\"gridwidth\":2,\"linecolor\":\"#EBF0F8\",\"showbackground\":true,\"ticks\":\"\",\"zerolinecolor\":\"#EBF0F8\"}},\"shapedefaults\":{\"line\":{\"color\":\"#2a3f5f\"}},\"ternary\":{\"aaxis\":{\"gridcolor\":\"#DFE8F3\",\"linecolor\":\"#A2B1C6\",\"ticks\":\"\"},\"baxis\":{\"gridcolor\":\"#DFE8F3\",\"linecolor\":\"#A2B1C6\",\"ticks\":\"\"},\"bgcolor\":\"white\",\"caxis\":{\"gridcolor\":\"#DFE8F3\",\"linecolor\":\"#A2B1C6\",\"ticks\":\"\"}},\"title\":{\"x\":0.05},\"xaxis\":{\"automargin\":true,\"gridcolor\":\"#EBF0F8\",\"linecolor\":\"#EBF0F8\",\"ticks\":\"\",\"title\":{\"standoff\":15},\"zerolinecolor\":\"#EBF0F8\",\"zerolinewidth\":2},\"yaxis\":{\"automargin\":true,\"gridcolor\":\"#EBF0F8\",\"linecolor\":\"#EBF0F8\",\"ticks\":\"\",\"title\":{\"standoff\":15},\"zerolinecolor\":\"#EBF0F8\",\"zerolinewidth\":2}}},\"title\":{\"text\":\"Class-wise Performance (Interactive)\"},\"xaxis\":{\"title\":{\"text\":\"Class Labels\"}},\"yaxis\":{\"title\":{\"text\":\"Score\"}},\"barmode\":\"group\",\"legend\":{\"title\":{\"text\":\"Click to Highlight\"}}},                        {\"responsive\": true}                    ).then(function(){\n",
              "                            \n",
              "var gd = document.getElementById('ec9ad87d-97ac-4f80-be16-cb86798f9f6f');\n",
              "var x = new MutationObserver(function (mutations, observer) {{\n",
              "        var display = window.getComputedStyle(gd).display;\n",
              "        if (!display || display === 'none') {{\n",
              "            console.log([gd, 'removed!']);\n",
              "            Plotly.purge(gd);\n",
              "            observer.disconnect();\n",
              "        }}\n",
              "}});\n",
              "\n",
              "// Listen for the removal of the full notebook cells\n",
              "var notebookContainer = gd.closest('#notebook-container');\n",
              "if (notebookContainer) {{\n",
              "    x.observe(notebookContainer, {childList: true});\n",
              "}}\n",
              "\n",
              "// Listen for the clearing of the current output cell\n",
              "var outputEl = gd.closest('.output');\n",
              "if (outputEl) {{\n",
              "    x.observe(outputEl, {childList: true});\n",
              "}}\n",
              "\n",
              "                        })                };                            </script>        </div>\n",
              "</body>\n",
              "</html>"
            ]
          },
          "metadata": {}
        }
      ]
    },
    {
      "cell_type": "markdown",
      "metadata": {
        "id": "FNP6aqzc9hE5"
      },
      "source": [
        "# Convert to model for Tensorflow-Lite"
      ]
    },
    {
      "cell_type": "code",
      "execution_count": null,
      "metadata": {
        "id": "ODjnYyld9hE6",
        "colab": {
          "base_uri": "https://localhost:8080/"
        },
        "outputId": "cc2161c8-a395-4ca1-e1b8-788d9018a89b"
      },
      "outputs": [
        {
          "output_type": "stream",
          "name": "stderr",
          "text": [
            "/usr/local/lib/python3.11/dist-packages/keras/src/engine/training.py:3000: UserWarning: You are saving your model as an HDF5 file via `model.save()`. This file format is considered legacy. We recommend using instead the native Keras format, e.g. `model.save('my_model.keras')`.\n",
            "  saving_api.save_model(\n",
            "WARNING:tensorflow:Compiled the loaded model, but the compiled metrics have yet to be built. `model.compile_metrics` will be empty until you train or evaluate the model.\n"
          ]
        }
      ],
      "source": [
        "# Save as a model dedicated to inference\n",
        "model.save(model_save_path, include_optimizer=False)"
      ]
    },
    {
      "cell_type": "code",
      "execution_count": null,
      "metadata": {
        "colab": {
          "base_uri": "https://localhost:8080/"
        },
        "id": "zRfuK8Y59hE6",
        "outputId": "d2408272-abb3-4a3c-a5d3-88cea9d22472"
      },
      "outputs": [
        {
          "output_type": "execute_result",
          "data": {
            "text/plain": [
              "8384"
            ]
          },
          "metadata": {},
          "execution_count": 100
        }
      ],
      "source": [
        "# Transform model (quantization)\n",
        "\n",
        "converter = tf.lite.TFLiteConverter.from_keras_model(model)\n",
        "converter.optimizations = [tf.lite.Optimize.DEFAULT]\n",
        "tflite_quantized_model = converter.convert()\n",
        "\n",
        "open(tflite_save_path, 'wb').write(tflite_quantized_model)"
      ]
    },
    {
      "cell_type": "markdown",
      "metadata": {
        "id": "CHBPBXdx9hE6"
      },
      "source": [
        "# Inference test"
      ]
    },
    {
      "cell_type": "code",
      "execution_count": null,
      "metadata": {
        "id": "mGAzLocO9hE7"
      },
      "outputs": [],
      "source": [
        "interpreter = tf.lite.Interpreter(model_path=tflite_save_path)\n",
        "interpreter.allocate_tensors()"
      ]
    },
    {
      "cell_type": "code",
      "execution_count": null,
      "metadata": {
        "id": "oQuDK8YS9hE7"
      },
      "outputs": [],
      "source": [
        "# Get I / O tensor\n",
        "input_details = interpreter.get_input_details()\n",
        "output_details = interpreter.get_output_details()"
      ]
    },
    {
      "cell_type": "code",
      "execution_count": null,
      "metadata": {
        "id": "2_ixAf_l9hE7"
      },
      "outputs": [],
      "source": [
        "interpreter.set_tensor(input_details[0]['index'], np.array([X_test[0]]))"
      ]
    },
    {
      "cell_type": "code",
      "execution_count": null,
      "metadata": {
        "colab": {
          "base_uri": "https://localhost:8080/"
        },
        "id": "s4FoAnuc9hE7",
        "outputId": "9efc1c21-7b62-4074-df82-862b0b12b2b5",
        "scrolled": true
      },
      "outputs": [
        {
          "output_type": "stream",
          "name": "stdout",
          "text": [
            "CPU times: user 86 µs, sys: 5 µs, total: 91 µs\n",
            "Wall time: 88 µs\n"
          ]
        }
      ],
      "source": [
        "%%time\n",
        "# Inference implementation\n",
        "interpreter.invoke()\n",
        "tflite_results = interpreter.get_tensor(output_details[0]['index'])"
      ]
    },
    {
      "cell_type": "code",
      "execution_count": null,
      "metadata": {
        "colab": {
          "base_uri": "https://localhost:8080/"
        },
        "id": "vONjp19J9hE8",
        "outputId": "8f2a2c21-2c7b-4b67-e3f2-e9d8555829a9"
      },
      "outputs": [
        {
          "output_type": "stream",
          "name": "stdout",
          "text": [
            "[1.1185922e-07 4.6173107e-02 1.6338882e-04 7.3516525e-02 1.2096261e-11\n",
            " 2.7295349e-07 8.9619518e-04 2.1041578e-01 2.3874705e-05 3.4739891e-08\n",
            " 6.6877359e-01 3.7014281e-05]\n",
            "10\n"
          ]
        }
      ],
      "source": [
        "print(np.squeeze(tflite_results))\n",
        "print(np.argmax(np.squeeze(tflite_results)))"
      ]
    }
  ],
  "metadata": {
    "accelerator": "GPU",
    "colab": {
      "collapsed_sections": [
        "CHBPBXdx9hE6"
      ],
      "provenance": [],
      "gpuType": "T4"
    },
    "kernelspec": {
      "display_name": "Python 3",
      "name": "python3"
    },
    "language_info": {
      "codemirror_mode": {
        "name": "ipython",
        "version": 3
      },
      "file_extension": ".py",
      "mimetype": "text/x-python",
      "name": "python",
      "nbconvert_exporter": "python",
      "pygments_lexer": "ipython3",
      "version": "3.8.10"
    }
  },
  "nbformat": 4,
  "nbformat_minor": 0
}